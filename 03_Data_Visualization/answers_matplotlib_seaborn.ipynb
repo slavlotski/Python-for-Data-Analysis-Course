{
 "cells": [
  {
   "attachments": {},
   "cell_type": "markdown",
   "metadata": {},
   "source": [
    "## Ответы к Notebook 1_Visualization_with_Pandas"
   ]
  },
  {
   "cell_type": "code",
   "execution_count": null,
   "metadata": {},
   "outputs": [],
   "source": [
    "# Задача 3.1\n",
    "data[['Temperature', 'Humidity']].plot(color = {'Temperature':'green', 'Humidity': 'blue'});"
   ]
  },
  {
   "cell_type": "code",
   "execution_count": null,
   "metadata": {},
   "outputs": [],
   "source": [
    "# Задача 3.2\n",
    "data['Humidity'].plot(kind='hist',\n",
    "                     bins = 30,\n",
    "                     figsize = (15,8),\n",
    "                     xlabel = 'Relative Humidity (%)',\n",
    "                     ylabel = 'Number of occurences',\n",
    "                     color = 'green'\n",
    "                         )"
   ]
  },
  {
   "cell_type": "code",
   "execution_count": null,
   "metadata": {},
   "outputs": [],
   "source": [
    "# Задача 3.3\n",
    "plt.cm.Set3_r(np.arange(len(sample_data)))\n",
    "sample_data.sort_values(by = 'Score', ascending = False).plot(x = 'Student', \n",
    "                                                              y = 'Score',\n",
    "                                                              kind = 'barh', \n",
    "                                                              rot = 45,\n",
    "                                                              color = plt.cm.Set3_r(np.arange(len(sample_data))),\n",
    "                                                              legend = False,\n",
    "                                                              xlabel = 'Count');"
   ]
  },
  {
   "cell_type": "code",
   "execution_count": null,
   "metadata": {},
   "outputs": [],
   "source": [
    "# Задача 4\n",
    "data_ob['Age'].plot(kind='box',\n",
    "                   figsize = (10,8));"
   ]
  },
  {
   "cell_type": "code",
   "execution_count": null,
   "metadata": {},
   "outputs": [],
   "source": [
    "# Задача 5\n",
    "data_ob['Weight'].plot(kind='hist',\n",
    "                       grid = False,\n",
    "                       bins = 50);"
   ]
  },
  {
   "cell_type": "code",
   "execution_count": null,
   "metadata": {},
   "outputs": [],
   "source": [
    "# Задача 6\n",
    "data_ob['Gender'].value_counts(normalize = True).plot(kind = 'bar',                      \n",
    "                      color = ['salmon','skyblue'],\n",
    "                      title = 'Proportion of gender',\n",
    "                      xlabel = 'Gender',\n",
    "                      ylabel = 'The percentage');"
   ]
  },
  {
   "cell_type": "code",
   "execution_count": null,
   "metadata": {},
   "outputs": [],
   "source": [
    "# Задача 7\n",
    "data_ob.boxplot(figsize = (10,8),\n",
    "                column = 'Age',\n",
    "                by = 'Gender');"
   ]
  },
  {
   "cell_type": "code",
   "execution_count": null,
   "metadata": {},
   "outputs": [],
   "source": [
    "# Задача 8\n",
    "data_ob['FAVC'].value_counts().plot(kind='bar', rot = 0);"
   ]
  },
  {
   "cell_type": "code",
   "execution_count": null,
   "metadata": {},
   "outputs": [],
   "source": [
    "# Задача 9\n",
    "data_ob.boxplot(figsize = (10,8), column = 'Age',\n",
    "               by = 'NObeyesdad',\n",
    "               rot = 45,\n",
    "               grid = False);"
   ]
  },
  {
   "cell_type": "code",
   "execution_count": null,
   "metadata": {},
   "outputs": [],
   "source": [
    "# Задача 10\n",
    "data_ob['MTRANS'].value_counts().plot(kind='bar',\n",
    "                                     rot = 45,\n",
    "                                     color = 'skyblue'\n",
    "                                     );"
   ]
  },
  {
   "cell_type": "code",
   "execution_count": null,
   "metadata": {},
   "outputs": [],
   "source": [
    "# Задача 11\n",
    "subset_transport.boxplot(\n",
    "                     column = 'Weight',\n",
    "                     figsize = (10,8),\n",
    "                     grid = False,\n",
    "                     rot = 45,\n",
    "                     by = 'MTRANS')"
   ]
  },
  {
   "attachments": {},
   "cell_type": "markdown",
   "metadata": {},
   "source": [
    "## Ответы к Notebook 02_Mechanics_of_plotting_in_Matplolib"
   ]
  },
  {
   "cell_type": "code",
   "execution_count": null,
   "metadata": {},
   "outputs": [],
   "source": [
    "# Задача 3.2\n",
    "fig, ax = plt.subplots(2,2, figsize = (13,9))\n",
    "\n",
    "ax[0,0].hist(x_var2,\n",
    "          bins = 14,\n",
    "          color = 'slateblue')\n",
    "ax[0,0].set_xlabel('Values')\n",
    "ax[0,0].set_ylabel('Count')\n",
    "ax[0,0].set_title('A histogram')\n",
    "\n",
    "ax[1,1].plot(x_var, color = 'dodgerblue', marker = '*', linestyle = 'dotted')\n",
    "ax[1,1].set_xlabel('Count')\n",
    "ax[1,1].set_ylabel('Values')\n",
    "ax[1,1].set_title('A line plot');"
   ]
  },
  {
   "cell_type": "code",
   "execution_count": null,
   "metadata": {},
   "outputs": [],
   "source": [
    "# Задача 3.3\n",
    "fig, ax = plt.subplots(figsize = (13,9))\n",
    "\n",
    "box_properties = dict(color = 'gray', linestyle = '--')           \n",
    "wh_properties = dict(color = 'orange', linestyle = '-.')\n",
    "median_line = dict(color = 'red', linewidth = 2)                    \n",
    "mean_line = dict(color = 'green', linewidth = 3, linestyle = '--') \n",
    "ax.boxplot(houses['age'],\n",
    "           showmeans = True,                 # Show the mean\n",
    "           meanline = True,                  # Displaying the mean as line within a box\n",
    "           meanprops = mean_line,            # Properties of mean line\n",
    "           boxprops = box_properties,        # Properties of a box\n",
    "           medianprops =  median_line,\n",
    "           whiskerprops = wh_properties\n",
    "          )     # Properties of a median line\n",
    "ax.set_xticks([])\n",
    "ax.set_xlabel('Age', fontsize = 12)\n",
    "ax.set_ylabel('Distribution', fontsize = 12)\n",
    "plt.title('The boxplot of Age', fontsize = 17);"
   ]
  },
  {
   "cell_type": "code",
   "execution_count": null,
   "metadata": {},
   "outputs": [],
   "source": [
    "# Задача 3.4\n",
    "plt.figure(figsize = (13,9))\n",
    "plt.subplot(1,2,1)\n",
    "plt.boxplot(houses.price_unit_area)\n",
    "plt.ylabel('Price of a unit area (NT$)')\n",
    "plt.xticks([]);\n",
    "\n",
    "plt.subplot(1,2,2)\n",
    "plt.hist(houses.price_unit_area, bins = 15)\n",
    "plt.xlabel('Price of a unit area (NT$)')\n",
    "plt.suptitle('House price of a unit area', fontsize = 16);"
   ]
  },
  {
   "cell_type": "code",
   "execution_count": null,
   "metadata": {},
   "outputs": [],
   "source": [
    "# Задача 3.5\n",
    "fig, ax = plt.subplots(figsize = (13,9))\n",
    "ax.scatter(x = houses.n_convenience_stores, y = houses.price_unit_area ,  color = 'indianred')\n",
    "ax.set_xlabel('Number of convenience stores')\n",
    "ax.set_ylabel('Price of unit area (NT$')\n",
    "ax.spines['left'].set_visible(False)\n",
    "ax.spines['top'].set_visible(False)\n",
    "ax.spines['right'].set_visible(False)"
   ]
  },
  {
   "cell_type": "code",
   "execution_count": null,
   "metadata": {},
   "outputs": [],
   "source": [
    "# Задача 3.6\n",
    "fig, ax = plt.subplots(figsize = (13,9))\n",
    "plt.scatter(houses['distance_to_metro'], houses['price_unit_area'])\n",
    "ax.spines['left'].set_visible(False)\n",
    "ax.set_xlabel('Distance to the nearest metro station')\n",
    "ax.set_ylabel('Price of unit area (NT$)')"
   ]
  },
  {
   "attachments": {},
   "cell_type": "markdown",
   "metadata": {},
   "source": [
    "## Ответы к Notebook 03_Univariate_Analysis_with_Seaborn"
   ]
  },
  {
   "cell_type": "code",
   "execution_count": null,
   "metadata": {},
   "outputs": [],
   "source": [
    "# Задача 3.1\n",
    "sns.displot(data = penguins,\n",
    "           x = 'body_mass_g',\n",
    "           height = 6.5,\n",
    "           aspect = 1.3)"
   ]
  },
  {
   "cell_type": "code",
   "execution_count": null,
   "metadata": {},
   "outputs": [],
   "source": [
    "# Задача 3.2\n",
    "plt.figure(figsize = (13,9))\n",
    "sns.boxplot(data = penguins, x = 'bill_length_mm',\n",
    "           color = '#98D8D8',\n",
    "           width = 0.3,\n",
    "           linewidth = 1,\n",
    "           medianprops = {'color' : 'yellow', 'linewidth': 3 });"
   ]
  },
  {
   "cell_type": "code",
   "execution_count": null,
   "metadata": {},
   "outputs": [],
   "source": [
    "# Задача 3.3\n",
    "plt.figure(figsize=(13,9))\n",
    "sns.boxplot(data = penguins,\n",
    "           y = 'bill_depth_mm')\n",
    "sns.swarmplot(data = penguins,\n",
    "               y = 'bill_depth_mm',\n",
    "             color = 'red',\n",
    "             linewidth = 2)"
   ]
  },
  {
   "cell_type": "code",
   "execution_count": null,
   "metadata": {},
   "outputs": [],
   "source": [
    "# Задача 3.4\n",
    "plt.figure(figsize = (13,9))\n",
    "sns.boxplot(data = penguins,\n",
    "           y = 'bill_depth_mm',\n",
    "           color = 'white',\n",
    "           linewidth = 3,\n",
    "           width = 0.2)\n",
    "sns.swarmplot(data = penguins,\n",
    "             y = 'bill_depth_mm',\n",
    "             color = 'red',\n",
    "             linewidth = 2);"
   ]
  },
  {
   "cell_type": "code",
   "execution_count": null,
   "metadata": {},
   "outputs": [],
   "source": [
    "# Задача 4.1\n",
    "sns.catplot(data = penguins,\n",
    "           x = 'species',\n",
    "           kind = 'count',\n",
    "           order = ['Chinstrap','Adelie','Gentoo'],\n",
    "           palette = 'Paired',\n",
    "           saturation = 0.3,\n",
    "           height = 6.5,         \n",
    "           aspect = 1.3\n",
    "       )\n",
    "plt.title('Count of penguins based on species');  "
   ]
  },
  {
   "cell_type": "code",
   "execution_count": null,
   "metadata": {},
   "outputs": [],
   "source": [
    "# Задача 5.1\n",
    "sns.displot(data = data, x = 'age', height = 6.5, aspect = 1.3, bins = 25)\n",
    "plt.title('Age distribution');"
   ]
  },
  {
   "cell_type": "code",
   "execution_count": null,
   "metadata": {},
   "outputs": [],
   "source": [
    "# Задача 5.2\n",
    "plt.figure(figsize = (13,9))\n",
    "sns.boxplot(data = data, y = 'age', width = 0.3);"
   ]
  },
  {
   "cell_type": "code",
   "execution_count": null,
   "metadata": {},
   "outputs": [],
   "source": [
    "# Задача 5.3\n",
    "sns.displot(data = data, x = 'contact_duration', weights = 0.5, bins = 30);"
   ]
  },
  {
   "cell_type": "code",
   "execution_count": null,
   "metadata": {},
   "outputs": [],
   "source": [
    "# Задача 5.4\n",
    "sns.displot(data = data, x = 'contact_duration', height = 6.5, aspect = 1.3)\n",
    "plt.xlim(0.5,25)\n",
    "plt.title('Call duration up to 25 min');"
   ]
  },
  {
   "cell_type": "code",
   "execution_count": null,
   "metadata": {},
   "outputs": [],
   "source": [
    "# Задача 5.5\n",
    "sns.stripplot(data = data, y = 'contact_duration')\n",
    "plt.figure(figsize = (13,9));"
   ]
  },
  {
   "cell_type": "code",
   "execution_count": null,
   "metadata": {},
   "outputs": [],
   "source": [
    "# Задача 5.6\n",
    "sns.countplot(data = data, x = 'job', order = data.job.value_counts().index, palette = 'Set3')\n",
    "plt.xticks(rotation = 45)\n",
    "plt.figure(figsize = (13,9));"
   ]
  },
  {
   "cell_type": "code",
   "execution_count": null,
   "metadata": {},
   "outputs": [],
   "source": [
    "# Задача 5.7\n",
    "sns.countplot(data = data, x = 'month', palette = 'Pastel1')\n",
    "plt.xticks(rotation = 45);"
   ]
  },
  {
   "attachments": {},
   "cell_type": "markdown",
   "metadata": {},
   "source": [
    "## Ответы к Notebook 04_Bivariate_Analysis_with_Seaborn"
   ]
  },
  {
   "cell_type": "code",
   "execution_count": null,
   "metadata": {},
   "outputs": [],
   "source": [
    "# Задание 1.1\n",
    "plt.figure(figsize = (13,9))\n",
    "sns.boxplot(data = penguins, x = 'species', y = 'bill_depth_mm')\n",
    "plt.title(\"Distribution of bill's depth based on species\");"
   ]
  },
  {
   "cell_type": "code",
   "execution_count": null,
   "metadata": {},
   "outputs": [],
   "source": [
    "# Задание 1.2\n",
    "plt.figure(figsize = (13,9))\n",
    "sns.swarmplot(data = penguins_filter, y = 'flipper_length_mm', x = 'species')\n",
    "plt.title('Distribution of Chinstrap and Gentoo species');"
   ]
  },
  {
   "cell_type": "code",
   "execution_count": null,
   "metadata": {},
   "outputs": [],
   "source": [
    "# Задание 1.3\n",
    "plt.figure(figsize = (13,9))\n",
    "ax = sns.stripplot(data = adelie_filter, x = 'sex', y = 'flipper_length_mm')\n",
    "ax.set(title = 'The flipper length based on the gender',\n",
    "      xlabel = 'The gender',\n",
    "      ylabel = 'The flipper length (mm)');"
   ]
  },
  {
   "cell_type": "code",
   "execution_count": null,
   "metadata": {},
   "outputs": [],
   "source": [
    "# Задание 2.4\n",
    "sns.relplot(data = penguins, x = 'bill_length_mm', y = 'bill_depth_mm', height=6, aspect = 1.3)\n",
    "plt.xlabel('The bill length (mm)')\n",
    "plt.ylabel('The bill depth (mm)');"
   ]
  },
  {
   "cell_type": "code",
   "execution_count": null,
   "metadata": {},
   "outputs": [],
   "source": [
    "# Задание 4.5\n",
    "plt.figure(figsize = (13,9))\n",
    "corr_2 = data.corr()\n",
    "sns.heatmap(corr_2,annot = True, annot_kws = {'fontsize':14}, cmap = 'RdGy');"
   ]
  },
  {
   "cell_type": "code",
   "execution_count": null,
   "metadata": {},
   "outputs": [],
   "source": [
    "# Задание 4.6\n",
    "sns.displot(data = data, x = 'contact_duration', hue = 'target', height = 7, aspect = 1.3, multiple='stack');"
   ]
  },
  {
   "cell_type": "code",
   "execution_count": null,
   "metadata": {},
   "outputs": [],
   "source": [
    "# Задание 4.7\n",
    "plt.figure(figsize = (13,9))\n",
    "sns.boxplot(data = data, x = 'age', y = 'target');"
   ]
  },
  {
   "cell_type": "code",
   "execution_count": null,
   "metadata": {},
   "outputs": [],
   "source": [
    "# Задание 4.8\n",
    "sns.catplot(data = data, x = 'job', hue = 'target', kind = 'count', height = 6, aspect = 1.3)\n",
    "plt.xticks(rotation = 50);"
   ]
  },
  {
   "cell_type": "code",
   "execution_count": null,
   "metadata": {},
   "outputs": [],
   "source": [
    "# Задание 4.9\n",
    "sns.catplot(data = data, kind = 'count', x = 'marital_status', hue = 'target', height = 6, aspect = 1.3);"
   ]
  },
  {
   "attachments": {},
   "cell_type": "markdown",
   "metadata": {},
   "source": [
    "## Ответы на Notebook 05_Multivariate_visualizations_with_Seaborn"
   ]
  },
  {
   "cell_type": "code",
   "execution_count": null,
   "metadata": {},
   "outputs": [],
   "source": [
    "# Задание в конце notebook\n",
    "sns.relplot(data = penguins, x = 'bill_length_mm', y = 'bill_depth_mm', hue = 'species');"
   ]
  }
 ],
 "metadata": {
  "kernelspec": {
   "display_name": "Python 3",
   "language": "python",
   "name": "python3"
  },
  "language_info": {
   "name": "python",
   "version": "3.11.0"
  },
  "orig_nbformat": 4
 },
 "nbformat": 4,
 "nbformat_minor": 2
}
