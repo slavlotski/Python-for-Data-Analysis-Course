{
 "cells": [
  {
   "attachments": {},
   "cell_type": "markdown",
   "metadata": {},
   "source": [
    "## Об этом Jupyter Notebook\n",
    "В предыдущем notebook мы поняли что из себя представляют переменные и как они могут хранить разные значения (строки, целочисленные значения...).\n",
    "- В этом notebook мы познакомимся с более сложным типом данных **\"list\"** или список. Вы сможете увидеть, что список может хранить множество элементов (не только одно значение как было в предыдущих notebook)\n",
    "- Позднее мы изучим какие операции можно делать со списком, например, как извлекать элементы из него, как пройти по всем его элементам. \n",
    "- В последней части notebook мы узнаем совсем новую концепцию работы с циклами (**\"loops\"**). Циклы связаны с темой списков очень сильно, особенно с извлечением элементов из списка. \n",
    "\n",
    "Пожалуйста, заметьте, что в этом notebook вы уже увидете импортированные данные. Понять как импортировать библиотеки для текущего урока не обязательная задача, просто следуйте примерам, которые будут вам продемонстрированы. \n",
    " ***"
   ]
  },
  {
   "attachments": {},
   "cell_type": "markdown",
   "metadata": {},
   "source": [
    "## 1. Списки\n",
    "В последнем notebook мы поработали со следующей таблицей:\n",
    "\n",
    "| Track_name |  Price |  Currency |  Rating_count_total | User_rating|\n",
    "|------------|:------:|----------:|---------------------:|-----------:|\n",
    "| Google | 0.0 | USD | 2974676 | 3.5|\n",
    "| Instagram |    0.0  |   USD |2161558 |4.5|\n",
    "| Clash of Clans | 0.0|    USD | 2130805 |4.5|\n",
    "| Temple Run |    0.0  |   USD |1724546 |4.5|\n",
    "| Pandora - Music & Radio | 0.0|    USD | 1126879 |4.5|\n",
    "\n",
    "Источник: [Mobile App Store Data Set (Ramanathan Perumal)](https://www.kaggle.com/ramamet4/app-store-apple-data-set-10k-apps)</p>"
   ]
  },
  {
   "attachments": {},
   "cell_type": "markdown",
   "metadata": {},
   "source": [
    "В таблице 5 строчек и 5 столбцов. Каждое значение в таблице называют **точкой данных**. Например в первой строчке, у нас есть 5 точек данных:\n",
    "- Google\n",
    "- 0.0\n",
    "- USA\n",
    "- 2974676\n",
    "- 3.5"
   ]
  },
  {
   "attachments": {},
   "cell_type": "markdown",
   "metadata": {},
   "source": [
    "Когда у нас коллекция из точек данных - это уже называют **набором данных**. Мы можем называть таблицу выше как коллекцию точек данных, также можем назвать как набором данных. Мы видим, что набор данных состоит из 5 строчек и 5 столбцов. \n",
    "\n",
    "Когда мы хотим работать с наборами данных, нам нужно хранить их правильно в памяти компьютера, мы можем извлекать и манипулировать с точками данных в соотвествии наших нужд. Чтобы хранить точки данных в памяти компьютера мы можем, например, использовать то что мы уже изучили ранее:  "
   ]
  },
  {
   "cell_type": "code",
   "execution_count": 1,
   "metadata": {},
   "outputs": [],
   "source": [
    "track_name_row1 = 'Google'\n",
    "price_row1 = 0.0\n",
    "currrency_row1 = 'USD'\n",
    "rating_count_total_row1 = 2974676\n",
    "user_rating_row1 = 3.5"
   ]
  },
  {
   "attachments": {},
   "cell_type": "markdown",
   "metadata": {},
   "source": [
    "Вводить каждую точку данных вручную в набор данных как мы сделали выше слишком трудозатратно и даже невозможно при больших наборах данных. К счастью, мы можем хранить данные используя другой более эффективный метод, а именно через **списки.** \n",
    "**Список** представляет собой последовательность элементов, пронумерованных от 0 до n. \n",
    "Посмотрите на пример ниже:"
   ]
  },
  {
   "cell_type": "code",
   "execution_count": 2,
   "metadata": {},
   "outputs": [
    {
     "name": "stdout",
     "output_type": "stream",
     "text": [
      "['Google', 0.0, 'USD', 2974676, 3.5]\n"
     ]
    },
    {
     "data": {
      "text/plain": [
       "list"
      ]
     },
     "execution_count": 2,
     "metadata": {},
     "output_type": "execute_result"
    }
   ],
   "source": [
    "row_one = ['Google', 0.0, 'USD', 2974676, 3.5]\n",
    "print(row_one)\n",
    "type(row_one)"
   ]
  },
  {
   "attachments": {},
   "cell_type": "markdown",
   "metadata": {},
   "source": [
    "Как мы создали список выше? \n",
    "1. Введите последовательность точек данных, которые мы хотим включить в наш набор данных и разделяйте каждое значение через запятую: 'Google', 0.0, 'USD', 2974676, 3.5.\n",
    "2. Оберните эту последовательность значений в квадратные скобки. \n",
    "\n",
    "После того как список был сохранен в память компьютера путем присвоения переменной **row_one**."
   ]
  },
  {
   "attachments": {},
   "cell_type": "markdown",
   "metadata": {},
   "source": [
    "### Задание 1.3.1: \n",
    "1. Сохраните 2 строчку из таблицы ниже в переменную **row_two** в виде списка.\n",
    "2. Сохраните 3 строчку из таблицы ниже в переменную **row_three** в виде списка\n",
    "3. Распечатайте **row_two**, **row_three**, используя функцию `print()`"
   ]
  },
  {
   "attachments": {},
   "cell_type": "markdown",
   "metadata": {},
   "source": [
    "| Track_name |  Price |  Currency |  Rating_count_total | User_rating|\n",
    "|------------|:------:|----------:|---------------------:|-----------:|\n",
    "| Google | 0.0 | USD | 2974676 | 3.5|\n",
    "| Instagram |    0.0  |   USD |2161558 |4.5|\n",
    "| Clash of Clans | 0.0|    USD | 2130805 |4.5|\n",
    "| Temple Run |    0.0  |   USD |1724546 |4.5|\n",
    "| Pandora - Music & Radio | 0.0|    USD | 1126879 |4.5|"
   ]
  },
  {
   "cell_type": "code",
   "execution_count": 4,
   "metadata": {},
   "outputs": [],
   "source": [
    "# Начни писать свой код ниже:\n"
   ]
  },
  {
   "attachments": {},
   "cell_type": "markdown",
   "metadata": {},
   "source": [
    "Список может содержать разные типы данных. \n",
    "\n",
    "Например, списки могут содежать только целочисленные значения [1,2,3] или разные типы данных как мы сделали в задании выше ['Google', 0.0, 'USD', 2974676, 3.5].\n",
    "\n",
    "Чтобы узнать длину списка или из какого кол-ва значений состоит список, мы можем использовать функцию `len()`."
   ]
  },
  {
   "cell_type": "code",
   "execution_count": 5,
   "metadata": {},
   "outputs": [
    {
     "name": "stdout",
     "output_type": "stream",
     "text": [
      "5\n",
      "3\n",
      "0\n"
     ]
    }
   ],
   "source": [
    "row_one = ['Google', 0.0, 'USD', 2974676, 3.5]\n",
    "print(len(row_one))\n",
    "\n",
    "list_a = [1,2,3]\n",
    "print(len(list_a))\n",
    "\n",
    "list_b=[]\n",
    "print(len(list_b))"
   ]
  },
  {
   "attachments": {},
   "cell_type": "markdown",
   "metadata": {},
   "source": [
    "## 2. Индексы в списках. \n",
    "Каждая точка данных или элемент списка имеет свою позицию (индекс), к которой он относится. В Python индексы начинаются с цифры 0. Например, первый элемент списка имеет индекс 0, второй элемент уже будет иметь индекс 1 и т.д.  \n",
    "\n",
    "Чтобы найти индекс в списке, просто посчитайте позицию значения в последовательности и отнимите единицу. Например, аттрибут **user_rating**, который является 5-ым элементом списка, будет иметь следующий индекс **5 - 1 = 4**.\n",
    "\n",
    ">**Заметка:** Пожалуйста, запомните, что в Python индексы начинаются с **0**, не с 1. "
   ]
  },
  {
   "cell_type": "code",
   "execution_count": 1,
   "metadata": {},
   "outputs": [
    {
     "name": "stdout",
     "output_type": "stream",
     "text": [
      "3.5\n"
     ]
    }
   ],
   "source": [
    "row_one = ['Google', 0.0, 'USD', 2974676, 3.5]\n",
    "print(row_one[4])"
   ]
  },
  {
   "attachments": {},
   "cell_type": "markdown",
   "metadata": {},
   "source": [
    "Мы видим, что индекс может помочь нам извлечь значение контретного элемента списка. Как нам извлечь первый элемент списка? Мы можем ввести название списка и после него в квадратных скобках ввести номер индекса. Общая формула для всех списков выглядит так **название_переменной_списка[номер_индекса]**. Извлечение каждого элемента из списка полезно, когда мы хотим произвести операции над каждым элементом списка. Например, мы можем узнать среднее значение между рейтингом приложений Google и Instagram: "
   ]
  },
  {
   "cell_type": "code",
   "execution_count": 2,
   "metadata": {},
   "outputs": [
    {
     "name": "stdout",
     "output_type": "stream",
     "text": [
      "1.0\n",
      "4.0\n"
     ]
    }
   ],
   "source": [
    "row_one = ['Google', 0.0, 'USD', 2974676, 3.5]\n",
    "row_two = ['Instagram',0.0, 'USD', 2161558, 4.5]\n",
    "\n",
    "difference_in_rating = row_two[4] - row_one[4]\n",
    "average_rating = (row_one[4] + row_two[4])/2\n",
    "\n",
    "print(difference_in_rating)\n",
    "print(average_rating)"
   ]
  },
  {
   "attachments": {},
   "cell_type": "markdown",
   "metadata": {},
   "source": [
    "### Задание 1.3.2\n",
    "\n",
    "В ячейке кода ниже можно увидеть списки первых трех строчек из таблицы. Необходимо извлечь 4 элемент из каждого списка, который является рейтингом приложения и найти среднее арифметическое этих рейтингов. \n",
    "\n",
    "1. Присвойте переменной **ratings_one** значение 4-ого элемента из списка **row_one**.\n",
    "2. Аналогично для списка **row_two** в переменную **ratings_two**.\n",
    "3. Аналогично для списка **row_three** в переменную **ratings_three**.\n",
    "4. Вычислите общую сумму всех 3 рейтингов и сохраните результат в переменную **total_rating**. \n",
    "5. Найдите среднее арифметическое, используя переменную **total_rating** и сохраните результат в переменную **average_rating**. "
   ]
  },
  {
   "cell_type": "code",
   "execution_count": 1,
   "metadata": {},
   "outputs": [],
   "source": [
    "row_one = ['Google', 0.0, 'USD', 2974676, 3.5]\n",
    "row_two = ['Instagram', 0.0, 'USD', 2161558, 4.5]\n",
    "row_three = ['Clash of Clans', 0.0, 'USD', 2130805, 4.5]\n",
    "\n",
    "# Начни писать свой код ниже: \n"
   ]
  },
  {
   "attachments": {},
   "cell_type": "markdown",
   "metadata": {},
   "source": [
    "## 3. Отрицательное значение индекса\n",
    "В Python можно использовать как положительные, так и отрицательные индексы: \n",
    "- Положительные, начинаем с самого первого элемента, который имеет индекс \"0\", второй элемент будет иметь индекс \"1\" и т.д. \n",
    "- Отрицательные, начинаем с последнего элемента в списке, самый первый индекс имеет значение \"-1\", второй с конца индекс имеет значение \"-2\"\n",
    "\n",
    "Положительные индексы чаще всего используются на практике в Python. Однако, отрицательные индексы могу также быть полезными, например, когда мы хотим выбрать последний элемента списка особенно когда список очень длинный и мы не имеем ни малейшего представляния сколько всего элементов в списке. "
   ]
  },
  {
   "attachments": {},
   "cell_type": "markdown",
   "metadata": {},
   "source": [
    "![foobar_indexes](./Pictures/polozhitelnye-tak-i-otricatelnye-indeksy-stroki.png)\n",
    "\n",
    "**Источник:** https://pythonru.com/osnovy/stroki-python"
   ]
  },
  {
   "cell_type": "code",
   "execution_count": 1,
   "metadata": {},
   "outputs": [
    {
     "name": "stdout",
     "output_type": "stream",
     "text": [
      "3.5\n",
      "3.5\n"
     ]
    }
   ],
   "source": [
    "row_one = ['Google', 0.0, 'USD', 2974676, 3.5]\n",
    "\n",
    "print(row_one[-1])\n",
    "print(row_one[4])"
   ]
  },
  {
   "attachments": {},
   "cell_type": "markdown",
   "metadata": {},
   "source": [
    "Посмотрите на код выше, отрицательный индекс -1 и индекс 4 выводят один и тот же результат. Будьте внимательны, если мы попробуем извлечь значение по индексу, который находится за пределами допустимого диапазона, то мы получим ошибку:\n"
   ]
  },
  {
   "cell_type": "code",
   "execution_count": 6,
   "metadata": {},
   "outputs": [
    {
     "ename": "IndexError",
     "evalue": "list index out of range",
     "output_type": "error",
     "traceback": [
      "\u001b[0;31m---------------------------------------------------------------------------\u001b[0m",
      "\u001b[0;31mIndexError\u001b[0m                                Traceback (most recent call last)",
      "Cell \u001b[0;32mIn [6], line 1\u001b[0m\n\u001b[0;32m----> 1\u001b[0m \u001b[39mprint\u001b[39m(row_one[\u001b[39m5\u001b[39;49m])\n",
      "\u001b[0;31mIndexError\u001b[0m: list index out of range"
     ]
    }
   ],
   "source": [
    "print(row_one[5])"
   ]
  },
  {
   "cell_type": "code",
   "execution_count": 4,
   "metadata": {},
   "outputs": [
    {
     "ename": "IndexError",
     "evalue": "list index out of range",
     "output_type": "error",
     "traceback": [
      "\u001b[0;31m---------------------------------------------------------------------------\u001b[0m",
      "\u001b[0;31mIndexError\u001b[0m                                Traceback (most recent call last)",
      "Cell \u001b[0;32mIn [4], line 1\u001b[0m\n\u001b[0;32m----> 1\u001b[0m \u001b[39mprint\u001b[39m(row_one[\u001b[39m-\u001b[39;49m\u001b[39m6\u001b[39;49m])\n",
      "\u001b[0;31mIndexError\u001b[0m: list index out of range"
     ]
    }
   ],
   "source": [
    "print(row_one[-6])"
   ]
  },
  {
   "attachments": {},
   "cell_type": "markdown",
   "metadata": {},
   "source": [
    "### Задание 1.3.3. \n",
    "\n",
    "В последнем элементе списка хранится рейтинг каждого приложения. \n",
    "1. Извлеките рейтинг первых трех строк таблицы (как мы сделали в предыдущем задании) и затем найдите среднее значение все извлеченных рейтингов. Результат распечатайте на экран. "
   ]
  },
  {
   "cell_type": "code",
   "execution_count": 2,
   "metadata": {},
   "outputs": [],
   "source": [
    "row_1 = ['Google', 0.0, 'USD', 2974676, 3.5]\n",
    "row_2 = ['Instagram', 0.0, 'USD', 2161558, 4.5]\n",
    "row_3 = ['Clash of Clans', 0.0, 'USD', 2130805, 4.5]\n",
    "\n",
    "# Начни писать свой код ниже:\n"
   ]
  },
  {
   "attachments": {},
   "cell_type": "markdown",
   "metadata": {},
   "source": [
    "## 4. Извлечение нескольких элементов списка\n",
    "\n",
    "Есть случаи когда мы хотим извлечь сразу несколько элементов из списка. Возьмем список с которым мы ранее работали: ['Google', 0.0, 'USD', 2974676, 3.5], и нам хотелось бы извлечь название приложения и его рейтинг. Воспользуемся тем что изучили ранее и получится:  "
   ]
  },
  {
   "cell_type": "code",
   "execution_count": null,
   "metadata": {},
   "outputs": [],
   "source": [
    "row_one = ['Google', 0.0, 'USD', 2974676, 3.5]\n",
    "app_name = row_one[0]\n",
    "rating_count_total = row_one[3]\n",
    "rating = row_one[-1] # или rating = row_one[4] "
   ]
  },
  {
   "attachments": {},
   "cell_type": "markdown",
   "metadata": {},
   "source": [
    "Было бы очень неэффективно если мы бы извлекали название приложения и его рейтинг для каждой строки в таблице, наш код стал бы неоправданно длинным и сложным для чтения. В качестве альтернативы мы можем хранить наши данные, используя отдельный список, как это сделано ниже:"
   ]
  },
  {
   "cell_type": "code",
   "execution_count": 1,
   "metadata": {},
   "outputs": [
    {
     "name": "stdout",
     "output_type": "stream",
     "text": [
      "['Google', 2974676, 3.5]\n"
     ]
    }
   ],
   "source": [
    "row_one = ['Google', 0.0, 'USD', 2974676, 3.5]\n",
    "\n",
    "google_rating = [row_one[0], row_one[3], row_one[-1]]\n",
    "print(google_rating)"
   ]
  },
  {
   "attachments": {},
   "cell_type": "markdown",
   "metadata": {},
   "source": [
    "В коде выше мы успешно извлекли информацию из одного списка в другой отдельный список. "
   ]
  },
  {
   "attachments": {},
   "cell_type": "markdown",
   "metadata": {},
   "source": [
    "### Задание 1.3.4\n",
    "1. Возьмем наши данные из таблицы и представим их в виде отдельных списков. В каждом списке должна присутствовать следующая информация: название приложения, общий подсчет рейтинга и рейтинг приложения. Не забудьте, что положительный индекс начинается со значения **0**. \n",
    "    - Для строчки с Google, создайте список и назовите его как **google_rating_data**\n",
    "    - Для строчки с Instagram, создайте список и назовите его как **insta_rating_data**\n",
    "    - Для строчки Pandora - Music & Radio, создайте список и назовите его как **pan_rating_data**\n",
    "2. Посчитайте средний рейтинг для Instagram и Pandora - Music & Radio, используя данные из только что созданных списков. Полученный результат положите в переменную **avg_rating**."
   ]
  },
  {
   "cell_type": "code",
   "execution_count": 3,
   "metadata": {},
   "outputs": [],
   "source": [
    "row_one = ['Google', 0.0, 'USD', 2974676, 3.5]\n",
    "row_two = ['Instagram', 0.0, 'USD', 2161558, 4.5]\n",
    "row_three = ['Clash of Clans', 0.0, 'USD', 2130805, 4.5]\n",
    "row_four = ['Temple Run', 0.0, 'USD', 1724546, 4.5]\n",
    "row_five = ['Pandora - Music & Radio', 0.0, 'USD', 1126879, 4.0]\n",
    "\n",
    "# Начни писать код ниже:\n"
   ]
  },
  {
   "attachments": {},
   "cell_type": "markdown",
   "metadata": {},
   "source": [
    "## 5. Срезы списков (ВАЖНАЯ ЧАСТЬ!)\n",
    "В предыдущем упражнении мы извлекли первый, четвертый и последний  элемент и из них создали отдельный список. Также у нас есть возможность извлечь первые три элемента из списка и создать из них отдельный список. \n",
    "\n",
    "Например:"
   ]
  },
  {
   "cell_type": "code",
   "execution_count": null,
   "metadata": {},
   "outputs": [],
   "source": [
    "row_three = ['Clash of Clans', 0.0, 'USD', 2130805, 4.5]\n",
    "\n",
    "clash_pricing_data = [row_three[0], row_three[1], row_three[2]]\n",
    "print(clash_pricing_data)"
   ]
  },
  {
   "attachments": {},
   "cell_type": "markdown",
   "metadata": {},
   "source": [
    "Однако, мы можем извлечь первые 3 элемента более короткой записью: "
   ]
  },
  {
   "cell_type": "code",
   "execution_count": null,
   "metadata": {},
   "outputs": [],
   "source": [
    "row_three = ['Clash of Clans', 0.0, 'USD', 2130805, 4.5]\n",
    "\n",
    "clash_pricing_data = row_three[0:3] # Короткая запись для извлечения первых 3 элементов\n",
    "print(clash_pricing_data)"
   ]
  },
  {
   "attachments": {},
   "cell_type": "markdown",
   "metadata": {},
   "source": [
    "Как показано в коде выше если мы хотим вырезать первые **n** элементов из списка **list_one** мы можем использовать короткую запись в виде list_one[0:n]. Такую запись в коде называют срезами в списках. \n",
    "\n",
    "Чтобы извлечь элемент через срезы в списке нам нужно сделать следующее: \n",
    "1. Определить номера индексов первого и последнего элемента среза. \n",
    "2. После этого мы можем извлечь список элементов используя синтаксис list_one[m:n], где:\n",
    "    - m - номер индекса для старта нашего среза.\n",
    "    - n - номер индекса последнего элемента нашего среза + 1 (Это означает, что если последний элемент списка имеет индекс со значением 5, тогда n будет принимать значение 6, если последний элемент имеет индекс 10, тогда n будет равно 11 и так далее.)\n",
    "\n",
    "Также существует более простой синтаксис для того чтобы выбрать первые n или последние n элементов:\n",
    "- list_one[:n] когда хотим выбрать первые n элементов\n",
    "- list_one[-n:] когда хотим выбрать последние n элементов из списка. "
   ]
  },
  {
   "cell_type": "code",
   "execution_count": 1,
   "metadata": {},
   "outputs": [
    {
     "name": "stdout",
     "output_type": "stream",
     "text": [
      "['Clash of Clans', 0.0, 'USD']\n",
      "['USD', 2130805, 4.5]\n"
     ]
    }
   ],
   "source": [
    "row_three = ['Clash of Clans', 0.0, 'USD', 2130805, 4.5]\n",
    "\n",
    "first_3 = row_three[:3] #вырезаем первые 3 элемента списка\n",
    "last_3 = row_three[-3:] #вырезаем последние 3 элемента списка\n",
    "\n",
    "print(first_3)\n",
    "print(last_3)"
   ]
  },
  {
   "attachments": {},
   "cell_type": "markdown",
   "metadata": {},
   "source": [
    "### Задание 1.3.5\n",
    "1. Выберите первые 4 элемента из списка row_one, используя синтаксис срезов, результат положите в переменную first_four_elem_go.\n",
    "2. Выберите последние два элемента из списка row_one, используя синтаксис срезов и результат запомните в переменную last_two_elem_go. \n",
    "3. Для row_5, выберите список элементов  [0.0, 'USD', 1126879], используя синтаксис срезов, результат положите в переменную pan_2_3_4."
   ]
  },
  {
   "cell_type": "code",
   "execution_count": 4,
   "metadata": {},
   "outputs": [],
   "source": [
    "row_one = ['Google', 0.0, 'USD', 2974676, 3.5]\n",
    "row_two = ['Instagram', 0.0, 'USD', 2161558, 4.5]\n",
    "row_three = ['Clash of Clans', 0.0, 'USD', 2130805, 4.5]\n",
    "row_four = ['Temple Run', 0.0, 'USD', 1724546, 4.5]\n",
    "row_five = ['Pandora - Music & Radio', 0.0, 'USD', 1126879, 4.0]\n",
    "\n",
    "\n",
    "# Начни свой код ниже:\n"
   ]
  },
  {
   "attachments": {},
   "cell_type": "markdown",
   "metadata": {},
   "source": [
    "## 6. Список списков\n",
    "\n",
    "До сих пор мы работали с небольшим набором данных (всего 5 строчек!) и мы хранили каждую строчку в виде списка в разных переменных как row_one, row_two, row_three, row_four, row_file. Однако, если мы имели бы набор данных с более чем 10 000 строк, то нам нужно было создать 10 000 переменных, что является нереалистичным и избыточным. \n",
    "\n",
    "Чтобы решить эту проблему, мы можем хранить все пять списков в одной переменной как тут: "
   ]
  },
  {
   "cell_type": "code",
   "execution_count": 3,
   "metadata": {},
   "outputs": [
    {
     "data": {
      "text/plain": [
       "[['Google', 0.0, 'USD', 2974676, 3.5],\n",
       " ['Instagram', 0.0, 'USD', 2161558, 4.5],\n",
       " ['Clash of Clans', 0.0, 'USD', 2130805, 4.5],\n",
       " ['Temple Run', 0.0, 'USD', 1724546, 4.5],\n",
       " ['Pandora - Music & Radio', 0.0, 'USD', 1126879, 4.0]]"
      ]
     },
     "execution_count": 3,
     "metadata": {},
     "output_type": "execute_result"
    }
   ],
   "source": [
    "row_one = ['Google', 0.0, 'USD', 2974676, 3.5]\n",
    "row_two = ['Instagram', 0.0, 'USD', 2161558, 4.5]\n",
    "row_three = ['Clash of Clans', 0.0, 'USD', 2130805, 4.5]\n",
    "row_four = ['Temple Run', 0.0, 'USD', 1724546, 4.5]\n",
    "row_five = ['Pandora - Music & Radio', 0.0, 'USD', 1126879, 4.0]\n",
    "\n",
    "data_set = [row_one, row_two, row_three, row_four, row_five]\n",
    "data_set"
   ]
  },
  {
   "attachments": {},
   "cell_type": "markdown",
   "metadata": {},
   "source": [
    "Мы видим, что переменная data_set содержит все 5 списков (row_one, row_two, row_three, row_four, row_five). Такого типа список, который содержит другие списки называют **список списков**.\n",
    "\n",
    "Переменная **data_set** объявлена как список, поэтому мы можем извлекать каждый элемент списка, что если применить к нему синтаксис срезов как мы это делали в предыдущей главе?  "
   ]
  },
  {
   "cell_type": "code",
   "execution_count": 2,
   "metadata": {},
   "outputs": [
    {
     "name": "stdout",
     "output_type": "stream",
     "text": [
      "['Google', 0.0, 'USD', 2974676, 3.5]\n",
      "['Pandora - Music & Radio', 0.0, 'USD', 1126879, 4.0]\n",
      "[['Google', 0.0, 'USD', 2974676, 3.5], ['Instagram', 0.0, 'USD', 2161558, 4.5]]\n"
     ]
    }
   ],
   "source": [
    "data_set = [row_one, row_two, row_three, row_four, row_five]\n",
    "\n",
    "# Извлекаем первый элемент списка\n",
    "print(data_set[0])\n",
    "\n",
    "# Извлекаем последний элемент списка\n",
    "print(data_set[-1])\n",
    "\n",
    "# Извлекаем первые два элемента списка. \n",
    "print(data_set[:2])"
   ]
  },
  {
   "attachments": {},
   "cell_type": "markdown",
   "metadata": {},
   "source": [
    "Существуют кейсы где нам нужно извлечь элемент из списка как часть списка списков и нам нужно получить значение \"Google\" из ['Google', 0.0, 'USD', 2974676, 3.5]. "
   ]
  },
  {
   "cell_type": "code",
   "execution_count": 3,
   "metadata": {},
   "outputs": [
    {
     "name": "stdout",
     "output_type": "stream",
     "text": [
      "['Google', 0.0, 'USD', 2974676, 3.5]\n",
      "Google\n"
     ]
    }
   ],
   "source": [
    "data_set = [row_one, row_two, row_three, row_four, row_five]\n",
    "\n",
    "# Мы можем извлекать row_one и присваивать ей переменную как здесь:\n",
    "go_list = data_set[0]\n",
    "\n",
    "# Чтобы распечать список приложения Google \n",
    "print(go_list)\n",
    "\n",
    "# Извелкаем первый элемент из списка go_list\n",
    "app_name = go_list[0]\n",
    "\n",
    "#Распечатываем результат, хранящийся в переменной app_name\n",
    "print(app_name)"
   ]
  },
  {
   "attachments": {},
   "cell_type": "markdown",
   "metadata": {},
   "source": [
    "В коде выше мы извлекаем первый элемент за два шага: сначала извлекаем элемент как data_set[0], а затем go_row[0]. Есть более простой способ сделать это. Попробуйте сделать так **data_set[0][0]** и вы получите тот же результат. "
   ]
  },
  {
   "cell_type": "code",
   "execution_count": 4,
   "metadata": {},
   "outputs": [
    {
     "name": "stdout",
     "output_type": "stream",
     "text": [
      "Google\n"
     ]
    }
   ],
   "source": [
    "data_set = [row_one, row_two, row_three, row_four, row_five]\n",
    "\n",
    "print(data_set[0] [0])"
   ]
  },
  {
   "attachments": {},
   "cell_type": "markdown",
   "metadata": {},
   "source": [
    "## Задание 1.3.6:\n",
    "1. Сгруппируйте все 5 списков в один список, назвав его **app_data_set**.\n",
    "2. Посчитайте средний рейтинг приложений, извлекая правильный элемент из **app_data_set**. \n",
    "    - Пользовательский рейтинг всегда лежит в последнем элементе каждой строки. Просуммируйте рейтинг и затем разделите на кол-во списков, чтобы получить среднее значение. \n",
    "    - Результат положите в переменную **average_rating**."
   ]
  },
  {
   "cell_type": "code",
   "execution_count": 5,
   "metadata": {},
   "outputs": [],
   "source": [
    "row_1 = ['Google', 0.0, 'USD', 2974676, 3.5]\n",
    "row_2 = ['Instagram', 0.0, 'USD', 2161558, 4.5]\n",
    "row_3 = ['Clash of Clans', 0.0, 'USD', 2130805, 4.5]\n",
    "row_4 = ['Temple Run', 0.0, 'USD', 1724546, 4.5]\n",
    "row_5 = ['Pandora - Music & Radio', 0.0, 'USD', 1126879, 4.0]\n",
    "\n",
    "\n",
    "# Начни писать свой код ниже:\n"
   ]
  },
  {
   "attachments": {},
   "cell_type": "markdown",
   "metadata": {},
   "source": [
    "## 7. Повторяющиеся действия\n",
    "В предыдущем задании мы извлекали рейтинги вручную. Однако, пробовать извлечь рейтинги из ,например, 7197 записей вручную буквально непрактично, потому что это займет много времени. Как бы нам извлечь все 7197 рейтинго за пару секунд? К счастью, Python предлагает нам легкий способ сделать это:  "
   ]
  },
  {
   "cell_type": "code",
   "execution_count": 8,
   "metadata": {},
   "outputs": [
    {
     "name": "stdout",
     "output_type": "stream",
     "text": [
      "3\n",
      "10\n",
      "2\n",
      "6\n",
      "8\n",
      "1\n"
     ]
    }
   ],
   "source": [
    "ratings = [3, 10, 2, 6, 8, 1]\n",
    "\n",
    "for element in ratings:\n",
    "    print(element)"
   ]
  },
  {
   "attachments": {},
   "cell_type": "markdown",
   "metadata": {},
   "source": [
    "Помните задание, которое мы ранее выполняли, где нужно было извлечь последний элемент списка в виде рейтинга приложения? Сейчас, зная конструкцию `for` мы можем это сделать вот так: "
   ]
  },
  {
   "cell_type": "code",
   "execution_count": 4,
   "metadata": {},
   "outputs": [
    {
     "name": "stdout",
     "output_type": "stream",
     "text": [
      "3.5\n",
      "4.5\n",
      "4.5\n",
      "4.5\n",
      "4.0\n"
     ]
    }
   ],
   "source": [
    "app_data_set = [row_one, row_two, row_three, row_four, row_five]\n",
    "\n",
    "for each_list in app_data_set:\n",
    "    rating = each_list[-1]\n",
    "    print(rating)"
   ]
  },
  {
   "attachments": {},
   "cell_type": "markdown",
   "metadata": {},
   "source": [
    "Код выше извлекает каждый элемент из списка **app_data_set** и при каждой итерации цикла `for` присваивает извлеченный элемент в список **each_list**. Посмотрите пример ниже, как извлекается каждый элемент из списка **app_data_set** и распечатывается содержимое элемента через `print()`"
   ]
  },
  {
   "cell_type": "code",
   "execution_count": 5,
   "metadata": {},
   "outputs": [
    {
     "name": "stdout",
     "output_type": "stream",
     "text": [
      "['Google', 0.0, 'USD', 2974676, 3.5]\n",
      "['Instagram', 0.0, 'USD', 2161558, 4.5]\n",
      "['Clash of Clans', 0.0, 'USD', 2130805, 4.5]\n",
      "['Temple Run', 0.0, 'USD', 1724546, 4.5]\n",
      "['Pandora - Music & Radio', 0.0, 'USD', 1126879, 4.0]\n"
     ]
    }
   ],
   "source": [
    "app_data_set = [row_one, row_two, row_three, row_four, row_five]\n",
    "\n",
    "for each_list in app_data_set:\n",
    "    print(each_list)"
   ]
  },
  {
   "attachments": {},
   "cell_type": "markdown",
   "metadata": {},
   "source": [
    "Для того чтобы стало еще более понятно, поэлементный цикл `for` делает следующее:"
   ]
  },
  {
   "cell_type": "code",
   "execution_count": 6,
   "metadata": {},
   "outputs": [
    {
     "name": "stdout",
     "output_type": "stream",
     "text": [
      "['Google', 0.0, 'USD', 2974676, 3.5]\n",
      "['Instagram', 0.0, 'USD', 2161558, 4.5]\n",
      "['Clash of Clans', 0.0, 'USD', 2130805, 4.5]\n",
      "['Temple Run', 0.0, 'USD', 1724546, 4.5]\n",
      "['Pandora - Music & Radio', 0.0, 'USD', 1126879, 4.0]\n"
     ]
    }
   ],
   "source": [
    "app_data_set = [row_one, row_two, row_three, row_four, row_five]\n",
    "\n",
    "print(app_data_set[0])\n",
    "print(app_data_set[1])\n",
    "print(app_data_set[2])\n",
    "print(app_data_set[3])\n",
    "print(app_data_set[4])"
   ]
  },
  {
   "attachments": {},
   "cell_type": "markdown",
   "metadata": {},
   "source": [
    "Благодаре конструкции цикла `for` достаточно написать всего лишь две строчки кода, чтобы извлечь все строчки набора данных. \n",
    "\n",
    "Стоит обратить внимание на одну вещь, не забывайте делать отступ в 4 пробела (или 1 табуляции) после строчки с циклом `for` в случае если ваш редактор кода не поддерживает автоматическую табуляцию.  "
   ]
  },
  {
   "attachments": {},
   "cell_type": "markdown",
   "metadata": {},
   "source": [
    "### Задание 1.3.8:\n",
    "Используйте только что изученную конструкцию цикла `for` и распечатайте содержимое списка **app_data_set**."
   ]
  },
  {
   "cell_type": "code",
   "execution_count": 6,
   "metadata": {},
   "outputs": [],
   "source": [
    "row_1 = ['Google', 0.0, 'USD', 2974676, 3.5]\n",
    "row_2 = ['Instagram', 0.0, 'USD', 2161558, 4.5]\n",
    "row_3 = ['Clash of Clans', 0.0, 'USD', 2130805, 4.5]\n",
    "row_4 = ['Temple Run', 0.0, 'USD', 1724546, 4.5]\n",
    "row_5 = ['Pandora - Music & Radio', 0.0, 'USD', 1126879, 4.0]\n",
    "\n",
    "app_data_set = [row_1, row_2, row_3, row_4, row_5]\n",
    "\n",
    "# Начните писать свой код ниже:\n"
   ]
  },
  {
   "attachments": {},
   "cell_type": "markdown",
   "metadata": {},
   "source": [
    "## 8. Циклы for\n",
    "Как вы уже поняли выше мы изучили конструкцию цикла `for`. \n",
    "Цикл **for** состоит из 3-ех частей:\n",
    "1. Последовательность, например, список. \n",
    "2. Итерируемая переменная\n",
    "3. Тело цикла for "
   ]
  },
  {
   "cell_type": "code",
   "execution_count": 1,
   "metadata": {},
   "outputs": [
    {
     "name": "stdout",
     "output_type": "stream",
     "text": [
      "1\n",
      "0\n",
      "2\n",
      "1\n",
      "3\n",
      "2\n"
     ]
    }
   ],
   "source": [
    "a_list = [1, 2, 3]\n",
    "\n",
    "for value in a_list:\n",
    "    print(value)\n",
    "    print(value - 1)\n",
    "\n",
    "# value - это итерируемая переменная \n",
    "# a_list - последовательность \n",
    "# print(value) и print(value - 1) - тело цикла for"
   ]
  },
  {
   "attachments": {},
   "cell_type": "markdown",
   "metadata": {},
   "source": [
    "Тело цикла выполняется столько раз сколько элементов в **последовательности**. Если в качестве **последовательности** выступает список, который имеет три элемента, тело цикла выполнится 3 раза. Каждое выполнение тела цикла называют **итерацией**. Для каждой итерации **итерируемая переменная** берет разные значение следуя следующей схеме: \n",
    "- В первой итерации, в случае если мы имеем список [1,2,3] в качестве последовательности, первым значением для итерируемой переменной будет 1. \n",
    "- Во второй итерации вторым значением будет 2.\n",
    "- В третьей итерации значение 3 соотвественно. \n",
    "\n",
    "А вы знаете, что код, находящийся за пределами тела цикла также может взаимодействовать с кодом внутри цикла? Посмотрите на следующий пример:"
   ]
  },
  {
   "cell_type": "code",
   "execution_count": 7,
   "metadata": {},
   "outputs": [
    {
     "name": "stdout",
     "output_type": "stream",
     "text": [
      "1\n",
      "3\n",
      "6\n"
     ]
    }
   ],
   "source": [
    "a_list = [1, 2, 3]\n",
    "\n",
    "a_sum = 0 # переменная за пределами тела цикла\n",
    "\n",
    "for value in a_list:\n",
    "    ######################Код что ниже - это тело цикла###################\n",
    "    \n",
    "    a_sum = a_sum + value # производим операцию сложения с текущим значением \n",
    "    # итерируемой переменной value и текущим значением в переменной a_sum \n",
    "    # результат сложения запоминаем в a_sum\n",
    "    print(a_sum) # распечатываем содержимое переменной a_sum\n",
    "    \n",
    "    ######################Все что выше - это тело цикла###################\n",
    "    "
   ]
  },
  {
   "attachments": {},
   "cell_type": "markdown",
   "metadata": {},
   "source": [
    "### Задание 1.3.9:\n",
    "\n",
    "Посчитайте средний рейтинг приложения в списке списков **app_data_set**. \n",
    "1. Проиницилизируйте переменную **rating_sum** со значением 0 за пределами тела цикла. \n",
    "2. Проитирируйтесь по списку списков **app_data_set**.\n",
    "3. Извлекайте рейтинг приложения в каждой итерации и запоминайте рейтинг в переменную  **rating**. Рейтинг лежит в последнем элементе каждой строки. \n",
    "4. Добавляйте к текущему значению **rating_sum** новое значение переменной **rating**. \n",
    "5. За пределами цикла разделите рейтинг на кол-во строк в нашем наборе данных. Результат сохраните в переменную **avg_rating**. \n"
   ]
  },
  {
   "cell_type": "code",
   "execution_count": 8,
   "metadata": {},
   "outputs": [],
   "source": [
    "row_1 = ['Google', 0.0, 'USD', 2974676, 3.5]\n",
    "row_2 = ['Instagram', 0.0, 'USD', 2161558, 4.5]\n",
    "row_3 = ['Clash of Clans', 0.0, 'USD', 2130805, 4.5]\n",
    "row_4 = ['Temple Run', 0.0, 'USD', 1724546, 4.5]\n",
    "row_5 = ['Pandora - Music & Radio', 0.0, 'USD', 1126879, 4.0]\n",
    "\n",
    "app_data_set = [row_1, row_2, row_3, row_4, row_5]\n",
    "\n",
    "# Напишите свой код ниже: \n"
   ]
  }
 ],
 "metadata": {
  "kernelspec": {
   "display_name": "Python 3.11.0 64-bit",
   "language": "python",
   "name": "python3"
  },
  "language_info": {
   "codemirror_mode": {
    "name": "ipython",
    "version": 3
   },
   "file_extension": ".py",
   "mimetype": "text/x-python",
   "name": "python",
   "nbconvert_exporter": "python",
   "pygments_lexer": "ipython3",
   "version": "3.11.0"
  },
  "orig_nbformat": 4,
  "vscode": {
   "interpreter": {
    "hash": "aee8b7b246df8f9039afb4144a1f6fd8d2ca17a180786b69acc140d282b71a49"
   }
  }
 },
 "nbformat": 4,
 "nbformat_minor": 2
}
