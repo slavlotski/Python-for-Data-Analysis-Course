{
 "cells": [
  {
   "attachments": {},
   "cell_type": "markdown",
   "metadata": {},
   "source": [
    "## Ответы к Notebook 01_First_steps_in_Python"
   ]
  },
  {
   "cell_type": "code",
   "execution_count": null,
   "metadata": {},
   "outputs": [],
   "source": [
    "# Задание 1.1.1\n",
    "25+5"
   ]
  },
  {
   "cell_type": "code",
   "execution_count": null,
   "metadata": {},
   "outputs": [],
   "source": [
    "# Задание 1.1.1\n",
    "25+5\n",
    "20-7\n",
    "30+2\n",
    "67-22"
   ]
  },
  {
   "cell_type": "code",
   "execution_count": null,
   "metadata": {},
   "outputs": [],
   "source": [
    "# Задание 1.1.2\n",
    "print(55+5)\n",
    "print(300-8)\n",
    "print(21+67)"
   ]
  },
  {
   "cell_type": "code",
   "execution_count": null,
   "metadata": {},
   "outputs": [],
   "source": [
    "# Задание 1.1.2\n",
    "print(55 + 5); print(300 - 8); print(21 + 67)"
   ]
  },
  {
   "cell_type": "code",
   "execution_count": null,
   "metadata": {},
   "outputs": [],
   "source": [
    "# Задание 1.1.3.2\n",
    "print(58 + 6)\n",
    "print(21)\n",
    "print(-21)\n"
   ]
  },
  {
   "cell_type": "code",
   "execution_count": null,
   "metadata": {},
   "outputs": [],
   "source": [
    "# Задание 1.1.5\n",
    "print(5*30)\n",
    "print(56/2)\n",
    "print(5**2)"
   ]
  },
  {
   "attachments": {},
   "cell_type": "markdown",
   "metadata": {},
   "source": [
    "## Ответы к Notebook 02_Variables_and_data_types"
   ]
  },
  {
   "cell_type": "code",
   "execution_count": null,
   "metadata": {},
   "outputs": [],
   "source": [
    "# Задание 1.2.1\n",
    "result = (50 + 6)*32\n",
    "print(result)"
   ]
  },
  {
   "cell_type": "code",
   "execution_count": null,
   "metadata": {},
   "outputs": [],
   "source": [
    "# Задание 1.2.2\n",
    "some_value = 10 \n",
    "some_result = (38+6-2)*23\n",
    "print(some_value)\n",
    "print(some_result+8)\n",
    "print(some_value+some_result)"
   ]
  },
  {
   "cell_type": "code",
   "execution_count": null,
   "metadata": {},
   "outputs": [],
   "source": [
    "# Задание 1.2.4\n",
    "income = 2000 \n",
    "income = income + 5000\n",
    "print(income)"
   ]
  },
  {
   "cell_type": "code",
   "execution_count": null,
   "metadata": {},
   "outputs": [],
   "source": [
    "# Задание 1.2.5\n",
    "value_1 = 10 \n",
    "value_2 = 20.5\n",
    "value_1 += 2.5\n",
    "value_2 *= 5\n",
    "print(value_1, value_2)"
   ]
  },
  {
   "cell_type": "code",
   "execution_count": null,
   "metadata": {},
   "outputs": [],
   "source": [
    "# Задание 1.2.6\n",
    "value_1 = 11.2\n",
    "value_2 = 2.5\n",
    "value_1 = round(value_1)\n",
    "value_2 = int(value_2)\n",
    "print(value_1,value_2)"
   ]
  },
  {
   "cell_type": "code",
   "execution_count": null,
   "metadata": {},
   "outputs": [],
   "source": [
    "# Задание 1.2.7\n",
    "app_name = 'Instagram'\n",
    "average_rating = '4.5'\n",
    "total_ratings = '2161158'\n",
    "value = 'data'\n",
    "print(app_name)"
   ]
  },
  {
   "attachments": {},
   "cell_type": "markdown",
   "metadata": {},
   "source": [
    "## Ответы к Notebook 03_List_and_for_loop"
   ]
  },
  {
   "cell_type": "code",
   "execution_count": null,
   "metadata": {},
   "outputs": [],
   "source": [
    "# Задание 1.3.1\n",
    "row_two = ['Instagram',0.0,'USD',2161558,4.5]\n",
    "row_three = ['Clash of Clans',0.0,'USD',2130805,4.5]\n",
    "print(row_two, row_three)"
   ]
  },
  {
   "cell_type": "code",
   "execution_count": null,
   "metadata": {},
   "outputs": [],
   "source": [
    "# Задание 1.3.2\n",
    "row_one = ['Facebook', 0.0, 'USD', 2974676, 3.5]\n",
    "row_two = ['Instagram', 0.0, 'USD', 2161558, 4.5]\n",
    "row_three = ['Clash of Clans', 0.0, 'USD', 2130805, 4.5]\n",
    "\n",
    "rating_one = row_one[4]\n",
    "rating_two = row_two[4]\n",
    "rating_three = row_three[4]\n",
    "total_rating = rating_one + rating_two + rating_three\n",
    "average_rating = total_rating / 3"
   ]
  },
  {
   "cell_type": "code",
   "execution_count": null,
   "metadata": {},
   "outputs": [],
   "source": [
    "# Задание 1.3.3\n",
    "row_1 = ['Google', 0.0, 'USD', 2974676, 3.5]\n",
    "row_2 = ['Instagram', 0.0, 'USD', 2161558, 4.5]\n",
    "row_3 = ['Clash of Clans', 0.0, 'USD', 2130805, 4.5]\n",
    "\n",
    "print((row_1[-1] + row_2[-1] + row_3[-1])/3)"
   ]
  },
  {
   "cell_type": "code",
   "execution_count": null,
   "metadata": {},
   "outputs": [],
   "source": [
    "# Задание 1.3.4\n",
    "row_one = ['Google', 0.0, 'USD', 2974676, 3.5]\n",
    "row_two = ['Instagram', 0.0, 'USD', 2161558, 4.5]\n",
    "row_three = ['Clash of Clans', 0.0, 'USD', 2130805, 4.5]\n",
    "row_four = ['Temple Run', 0.0, 'USD', 1724546, 4.5]\n",
    "row_five = ['Pandora - Music & Radio', 0.0, 'USD', 1126879, 4.0]\n",
    "\n",
    "google_rating_data = [row_one[0],row_one[3],row_one[-1]]\n",
    "insta_rating_data = [row_two[0],row_two[3],row_two[-1]]\n",
    "pan_rating_data = [row_five[0],row_five[3],row_five[-1]]\n",
    "avg_rating = (insta_rating_data[-1] + pan_rating_data[-1])/2"
   ]
  },
  {
   "cell_type": "code",
   "execution_count": null,
   "metadata": {},
   "outputs": [],
   "source": [
    "# Задание 1.3.5\n",
    "row_one = ['Google', 0.0, 'USD', 2974676, 3.5]\n",
    "row_two = ['Instagram', 0.0, 'USD', 2161558, 4.5]\n",
    "row_three = ['Clash of Clans', 0.0, 'USD', 2130805, 4.5]\n",
    "row_four = ['Temple Run', 0.0, 'USD', 1724546, 4.5]\n",
    "row_five = ['Pandora - Music & Radio', 0.0, 'USD', 1126879, 4.0]\n",
    "\n",
    "\n",
    "first_four_elem_fb = row_one[0:3]\n",
    "last_two_elem_fb = row_one[3:5]\n",
    "pan_2_3_4 = row_five[1:4]"
   ]
  },
  {
   "cell_type": "code",
   "execution_count": null,
   "metadata": {},
   "outputs": [],
   "source": [
    "# Задание 1.3.6\n",
    "row_1 = ['Google', 0.0, 'USD', 2974676, 3.5]\n",
    "row_2 = ['Instagram', 0.0, 'USD', 2161558, 4.5]\n",
    "row_3 = ['Clash of Clans', 0.0, 'USD', 2130805, 4.5]\n",
    "row_4 = ['Temple Run', 0.0, 'USD', 1724546, 4.5]\n",
    "row_5 = ['Pandora - Music & Radio', 0.0, 'USD', 1126879, 4.0]\n",
    "\n",
    "\n",
    "# Start your code below:\n",
    "app_data_set = [row_1,row_2,row_3,row_4,row_5]\n",
    "average_rating = (app_data_set[0][-1] + app_data_set[1][-1] + app_data_set[2][-1] + app_data_set[3][-1] + app_data_set[4][-1]) / 5"
   ]
  },
  {
   "cell_type": "code",
   "execution_count": null,
   "metadata": {},
   "outputs": [],
   "source": [
    "# Задание 1.3.8\n",
    "row_1 = ['Google', 0.0, 'USD', 2974676, 3.5]\n",
    "row_2 = ['Instagram', 0.0, 'USD', 2161558, 4.5]\n",
    "row_3 = ['Clash of Clans', 0.0, 'USD', 2130805, 4.5]\n",
    "row_4 = ['Temple Run', 0.0, 'USD', 1724546, 4.5]\n",
    "row_5 = ['Pandora - Music & Radio', 0.0, 'USD', 1126879, 4.0]\n",
    "\n",
    "app_data_set = [row_1, row_2, row_3, row_4, row_5]\n",
    "\n",
    "for i in app_data_set:\n",
    "    print(i)"
   ]
  },
  {
   "cell_type": "code",
   "execution_count": null,
   "metadata": {},
   "outputs": [],
   "source": [
    "# Задание 1.3.9\n",
    "row_1 = ['Google', 0.0, 'USD', 2974676, 3.5]\n",
    "row_2 = ['Instagram', 0.0, 'USD', 2161558, 4.5]\n",
    "row_3 = ['Clash of Clans', 0.0, 'USD', 2130805, 4.5]\n",
    "row_4 = ['Temple Run', 0.0, 'USD', 1724546, 4.5]\n",
    "row_5 = ['Pandora - Music & Radio', 0.0, 'USD', 1126879, 4.0]\n",
    "\n",
    "app_data_set = [row_1, row_2, row_3, row_4, row_5]\n",
    "rating_sum = 0\n",
    "for i in app_data_set:\n",
    "    rating = i[-1]\n",
    "    rating_sum += rating\n",
    "avg_rating = rating_sum / len(app_data_set)"
   ]
  },
  {
   "attachments": {},
   "cell_type": "markdown",
   "metadata": {},
   "source": [
    "## Ответы к Notebook 04_Conditinal_statements"
   ]
  },
  {
   "cell_type": "code",
   "execution_count": null,
   "metadata": {},
   "outputs": [],
   "source": [
    "# Задание 1.4.1\n",
    "free_apps_ratings = []\n",
    "\n",
    "for row in apps_data[1:]:\n",
    "    price = float(row[4])\n",
    "    rating = float(row[7])\n",
    "    if price == 0.0:\n",
    "        free_apps_ratings.append(rating)\n",
    "avg_rating_free = sum(free_apps_ratings)/len(free_apps_ratings)"
   ]
  },
  {
   "cell_type": "code",
   "execution_count": null,
   "metadata": {},
   "outputs": [],
   "source": [
    "# Задание 1.4.2\n",
    "price = 0\n",
    "\n",
    "if price == 0:\n",
    "    print(\"This is free\")\n",
    "elif price == 1:\n",
    "    print(\"This is not free\")"
   ]
  },
  {
   "cell_type": "code",
   "execution_count": null,
   "metadata": {},
   "outputs": [],
   "source": [
    "# Задание 1.4.4\n",
    "non_free_apps_raings = []\n",
    "for row in apps_data[1:]:\n",
    "    rating = float(row[7])\n",
    "    price = float(row[4])   \n",
    "    if price != 0.0:\n",
    "        non_free_apps_raings.append(rating)\n",
    "    \n",
    "avg_rating_non_free = sum(non_free_apps_raings) / len(non_free_apps_raings)"
   ]
  },
  {
   "cell_type": "code",
   "execution_count": null,
   "metadata": {},
   "outputs": [],
   "source": [
    "# Задание 1.4.7\n",
    "free_games_social_ratings = []\n",
    "non_free_games_social_ratings = []\n",
    "for row in apps_data[1:]:\n",
    "    rating = float(row[7])\n",
    "    genre = row[11]\n",
    "    price = float(row[4])\n",
    "    \n",
    "    if (genre == 'Social Networking' or genre == 'Games') and price == 0:\n",
    "        free_games_social_ratings.append(rating)\n",
    "    elif (genre == 'Social Networking' or genre == 'Games') and price != 0:\n",
    "        non_free_games_social_ratings.append(rating)\n",
    "        \n",
    "avg_free = sum(free_games_social_ratings) / len(free_games_social_ratings)\n",
    "avg_non_free = sum(non_free_games_social_ratings) / len(non_free_games_social_ratings)"
   ]
  },
  {
   "cell_type": "code",
   "execution_count": null,
   "metadata": {},
   "outputs": [],
   "source": [
    "# Задание 1.4.10\n",
    "i = 1 # iterator\n",
    "apps_data[0].append(\"price_label\")\n",
    "for app in apps_data[1:]:\n",
    "    price = float(app[4])\n",
    "    # Complete code from here             \n",
    "    if price == 0.0:\n",
    "        apps_data[i].append(\"free\")\n",
    "    elif price > 0.0 and price < 20.0:\n",
    "        apps_data[i].append(\"affordable\")\n",
    "    elif price >= 20.0 and price < 50:\n",
    "        apps_data[i].append(\"expensive\")\n",
    "    elif price >= 50.0:\n",
    "        apps_data[i].append(\"very expensive\")\n",
    "    i += 1 # add new price_label to further row in apps_data\n",
    "print(apps_data[0:6])"
   ]
  },
  {
   "attachments": {},
   "cell_type": "markdown",
   "metadata": {},
   "source": [
    "## Ответы к Notebook 05_Dictionaries"
   ]
  },
  {
   "cell_type": "code",
   "execution_count": null,
   "metadata": {},
   "outputs": [],
   "source": [
    "# Задание 1.5.2\n",
    "over_9 = content_ratings['9+']\n",
    "over_17 = content_ratings['17+']\n",
    "print(over_9, over_17)"
   ]
  },
  {
   "cell_type": "code",
   "execution_count": null,
   "metadata": {},
   "outputs": [],
   "source": [
    "# Задание 1.5.4\n",
    "d_1 = {}\n",
    "d_1['key_1'] = 'first_value'\n",
    "d_1['key_2'] = 2\n",
    "d_1['key_3'] = 3.14\n",
    "d_1['key_4'] = True\n",
    "d_1['key_5'] = [4,2,1]\n",
    "d_1['key_6'] = {'inner_key':6}\n",
    "print(d_1)"
   ]
  },
  {
   "cell_type": "code",
   "execution_count": null,
   "metadata": {},
   "outputs": [],
   "source": [
    "# Задание 1.5.5\n",
    "content_ratings = {\"+4\":0,\"9\":0,'12+':0,'17+':0}\n",
    "for row in apps_data[1:]:\n",
    "    c_rating = row[10]\n",
    "    if c_rating in content_ratings:\n",
    "        content_ratings[c_rating] += 1\n",
    "print(content_ratings)"
   ]
  },
  {
   "cell_type": "code",
   "execution_count": null,
   "metadata": {},
   "outputs": [],
   "source": [
    "# Задание 1.5.6\n",
    "content_ratings = {}\n",
    "for row in apps_data[1:]:\n",
    "    c_rating = row[10]\n",
    "    if c_rating in content_ratings:\n",
    "        content_ratings[c_rating] += 1\n",
    "    else:\n",
    "        content_ratings[c_rating] = 3\n",
    "print(content_ratings)"
   ]
  },
  {
   "attachments": {},
   "cell_type": "markdown",
   "metadata": {},
   "source": [
    "## Ответы к Notebook 06_Functions"
   ]
  },
  {
   "cell_type": "code",
   "execution_count": null,
   "metadata": {},
   "outputs": [],
   "source": [
    "# Задание 1.6.1\n",
    "list_1 = [2, 45,62, -21, 0, 55, 3]\n",
    "\n",
    "Length = 0 \n",
    "for i in list_1:\n",
    "    Length += 1\n",
    "print(Length, len(list_1))"
   ]
  },
  {
   "cell_type": "code",
   "execution_count": null,
   "metadata": {},
   "outputs": [],
   "source": [
    "# Задание 1.6.4\n",
    "def square(number):\n",
    "    squared_number = number * number\n",
    "    return squared_number\n",
    "squared_12 = square(number = 12)\n",
    "squared_20 = square(number = 20)\n",
    "print(squared_12,squared_20)"
   ]
  },
  {
   "cell_type": "code",
   "execution_count": null,
   "metadata": {},
   "outputs": [],
   "source": [
    "# Задание 1.6.6\n",
    "def extract(data_set,index):\n",
    "    tmp_list = []\n",
    "    for row in data_set[1:]:\n",
    "        tmp_value = row[index]\n",
    "        tmp_list.append(tmp_value)      \n",
    "    return tmp_list\n",
    "app_rating = extract(apps_data,10)"
   ]
  },
  {
   "cell_type": "code",
   "execution_count": null,
   "metadata": {},
   "outputs": [],
   "source": [
    "# Задание 1.6.7\n",
    "def freq_table(input_list):\n",
    "    tmp_dict = {}\n",
    "    for key in input_list:\n",
    "        \n",
    "        if key in tmp_dict:\n",
    "            tmp_dict[key] += 1\n",
    "        else:\n",
    "            tmp_dict[key] = 1\n",
    "            \n",
    "    total_number_of_apps = 7197\n",
    "\n",
    "    for key, value in tmp_dict.items():\n",
    "        tmp_dict[key] = round((value / total_number_of_apps) * 100,4)\n",
    "        \n",
    "    return tmp_dict\n",
    "rating_ft = freq_table(app_rating)\n",
    "print(rating_ft)"
   ]
  },
  {
   "cell_type": "code",
   "execution_count": null,
   "metadata": {},
   "outputs": [],
   "source": [
    "# Задание 1.6.8\n",
    "def add(x,y):\n",
    "    return x + y\n",
    "first = add(x = 10, y = 5)\n",
    "second = add(10, 5)\n",
    "print(first == second)"
   ]
  },
  {
   "cell_type": "code",
   "execution_count": null,
   "metadata": {},
   "outputs": [],
   "source": [
    "# Задание 1.6.9\n",
    "def mean(data_set, index_value):\n",
    "    tmp_list = extract(data_set,index_value)\n",
    "    total_sum = find_sum([float(i) for i in tmp_list]) # converting if input column is string type\n",
    "    total_len = find_length(tmp_list)\n",
    "    \n",
    "    return total_sum / total_len\n",
    "\n",
    "avg_price = mean(data_set = apps_data, index_value = 4) \n",
    "print(avg_price)"
   ]
  },
  {
   "attachments": {},
   "cell_type": "markdown",
   "metadata": {},
   "source": [
    "## Ответы к Notebook 07_Practice_time"
   ]
  },
  {
   "cell_type": "code",
   "execution_count": 1,
   "metadata": {},
   "outputs": [
    {
     "name": "stdout",
     "output_type": "stream",
     "text": [
      "{'A': 1, 'n': 3, 'y': 1, 'O': 1, 'e': 1, 'b': 1, 'a': 1, 'k': 1}\n"
     ]
    }
   ],
   "source": [
    "# Задача 1 \n",
    "str1 = 'AnyOnebank'\n",
    "my_dict = {}\n",
    "for i in str1:\n",
    "    my_dict[i] = str1.count(i)\n",
    "print(my_dict)"
   ]
  },
  {
   "cell_type": "code",
   "execution_count": 2,
   "metadata": {},
   "outputs": [
    {
     "name": "stdout",
     "output_type": "stream",
     "text": [
      "Thailand - 23.9 C\n",
      "Germany - 13.8 C\n",
      "Russia - 3.7 C\n",
      "Poland - 12.0 C\n"
     ]
    }
   ],
   "source": [
    "# Задание 2\n",
    "countries_temperature = [\n",
    "    ['Thailand', [75.2, 77, 78.8, 73.4, 68, 75.2, 77]],\n",
    "    ['Germany', [57.2, 55.4, 59, 59, 53.6]],\n",
    "    ['Russia', [35.6, 37.4, 39.2, 41, 42.8, 39.2, 35.6]],\n",
    "    ['Poland', [50, 50, 53.6, 57.2, 55.4, 55.4]]]\n",
    "\n",
    "for i in countries_temperature:\n",
    "    print(i[0], '-', round((sum(i[1]) / len(i[1]) - 32) / 1.8, 1), 'C')"
   ]
  },
  {
   "cell_type": "code",
   "execution_count": null,
   "metadata": {},
   "outputs": [],
   "source": [
    "# Задание 3\n",
    "def multiply_by_three(positive_integer):\n",
    "    if positive_integer >= 0:\n",
    "        return positive_integer * 3\n",
    "    else:\n",
    "        return 0"
   ]
  },
  {
   "cell_type": "code",
   "execution_count": null,
   "metadata": {},
   "outputs": [],
   "source": [
    "# Задание 4. Одно из возможных решений\n",
    "a = ['Python', 'R', 'SQL','Python', 'Git', 'Tableau', 'SAS', 'Python']\n",
    "b = ['Python', 'R', 'SQL', 'Python', 'Git', 'Tableau', 'SAS', 'Python', 'Python']\n",
    "\n",
    "cheeky = a.count(\"Python\") + b.count(\"Python\")\n",
    "print(cheeky)"
   ]
  },
  {
   "cell_type": "code",
   "execution_count": null,
   "metadata": {},
   "outputs": [],
   "source": [
    "# Задача 5\n",
    "def backward_string(val: str) -> str:\n",
    "    return val[::-1]"
   ]
  },
  {
   "cell_type": "code",
   "execution_count": null,
   "metadata": {},
   "outputs": [],
   "source": [
    "# Задача 6\n",
    "def is_all_upper(text: str) -> bool:\n",
    "    return True if (text.upper()==text) or text in '' else False"
   ]
  },
  {
   "cell_type": "code",
   "execution_count": null,
   "metadata": {},
   "outputs": [],
   "source": [
    "# Задание 7 \n",
    "def rename_account_name():\n",
    "    new_account_name = input(\"Введите новое название счета\")\n",
    "    return new_account_name\n",
    "    \n",
    "def add_money(balance):\n",
    "    add_balance = int(input(\"Какую сумму хотите внести на карту?\"))\n",
    "    new_balance = balance + add_balance\n",
    "    return new_balance\n",
    "\n",
    "def withdraw(balance):\n",
    "    sub_balance = int(input(\"Какую сумму хотите снять с карты?\"))\n",
    "    new_balance = balance - sub_balance\n",
    "    return new_balance\n",
    "\n",
    "def enter_card(account_name, currency, balance=0):\n",
    "    print(f\"Добро пожаловать! Ваш счет: {account_name}, Валюта счета: {currency}, Баланс на счете: {balance}\")\n",
    "    account_name = rename_account_name()\n",
    "    balance = add_money(balance)\n",
    "    balance = withdraw(balance)\n",
    "\n",
    "    return print(f\"До скорых встреч! Ваш счет: {account_name}, Валюта счета: {currency}, Баланс на счете: {balance}\")"
   ]
  },
  {
   "cell_type": "code",
   "execution_count": 5,
   "metadata": {},
   "outputs": [
    {
     "name": "stdout",
     "output_type": "stream",
     "text": [
      "-165209625\n"
     ]
    }
   ],
   "source": [
    "# Задание 8 \n",
    "my_dictionary = {'data1': 375, 'data2': 567, 'data3': -37, 'data4': 21}\n",
    "result = 1\n",
    "for key in my_dictionary:    \n",
    "    result = result * my_dictionary[key]\n",
    "print(result)"
   ]
  },
  {
   "cell_type": "code",
   "execution_count": null,
   "metadata": {},
   "outputs": [],
   "source": [
    "# Задание 9 \n",
    "def task_9(array: list) -> int:\n",
    "    return sum(array[::2]) * array[-1] if len(array) > 0 else 0"
   ]
  }
 ],
 "metadata": {
  "kernelspec": {
   "display_name": "Python 3",
   "language": "python",
   "name": "python3"
  },
  "language_info": {
   "codemirror_mode": {
    "name": "ipython",
    "version": 3
   },
   "file_extension": ".py",
   "mimetype": "text/x-python",
   "name": "python",
   "nbconvert_exporter": "python",
   "pygments_lexer": "ipython3",
   "version": "3.11.4"
  },
  "orig_nbformat": 4
 },
 "nbformat": 4,
 "nbformat_minor": 2
}
