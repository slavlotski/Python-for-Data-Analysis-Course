{
 "cells": [
  {
   "attachments": {},
   "cell_type": "markdown",
   "metadata": {},
   "source": [
    "## Об этом Jupyter Notebook"
   ]
  },
  {
   "attachments": {},
   "cell_type": "markdown",
   "metadata": {},
   "source": [
    "Возможно самая полезная к пониманию концепция в программировании - это понять как устроены **переменные**. Следовательно в рамках данного notebook мы сфокусируемся именно на этом. Мы начнем с изучения зачем они нужны и как их создавать. Позднее мы узнаем что такое **типы данных**. К слову переменные могут иметь разные типы данных в зависимости от того что в них хранится.\n",
    "\n",
    "Наряду с этим мы узнаем некоторые полезные трюки, например, как *сконвертировать* один тип данных в другой. \n",
    "***"
   ]
  },
  {
   "attachments": {},
   "cell_type": "markdown",
   "metadata": {},
   "source": [
    "## 1. Сохранение значений и переменные\n",
    "Как вы помните мы выполнили парочку арифметических операций в предыдущем Notebook. Чтобы сохранить результат арифметической операции скажем `(20-10) * 2 = 20` мы должны указать название переменной слева, например, `result`, далее указываем знак `присваивания (=)`, а с правой стороны указываем `результат вычисления`, то есть **20**. \n",
    "\n",
    "> Python позволяет обращаться только к данным, хранящимся в переменных."
   ]
  },
  {
   "cell_type": "code",
   "execution_count": 1,
   "metadata": {},
   "outputs": [],
   "source": [
    "result = 20"
   ]
  },
  {
   "attachments": {},
   "cell_type": "markdown",
   "metadata": {},
   "source": [
    "Если мы распечатаем результат, то на выходе получим: 20"
   ]
  },
  {
   "cell_type": "code",
   "execution_count": 2,
   "metadata": {},
   "outputs": [
    {
     "name": "stdout",
     "output_type": "stream",
     "text": [
      "20\n"
     ]
    }
   ],
   "source": [
    "result = 20\n",
    "print(result)"
   ]
  },
  {
   "attachments": {},
   "cell_type": "markdown",
   "metadata": {},
   "source": [
    "Мы можем сначала вычислить, а потом сохранить результат вычисления `(20-10) * 2 = 20` "
   ]
  },
  {
   "cell_type": "code",
   "execution_count": 3,
   "metadata": {},
   "outputs": [
    {
     "name": "stdout",
     "output_type": "stream",
     "text": [
      "20\n"
     ]
    }
   ],
   "source": [
    "result = (20-10)*2\n",
    "print(result)"
   ]
  },
  {
   "attachments": {},
   "cell_type": "markdown",
   "metadata": {},
   "source": [
    "Будьте внимательны, когда мы распечатываем результат, на выходе получается расчитанное значение, а не (20-10) * 2. Python сначала высчитывает (20-10) * 2 и после сохраняет результат в виде числа 20 в переменную **result**."
   ]
  },
  {
   "attachments": {},
   "cell_type": "markdown",
   "metadata": {},
   "source": [
    "### Задание 1.2.1:\n",
    "1. Сохраните результат вычисления (50 + 6) * 32 в переменную **result**. \n",
    "2. Распечатайте результат с помощью функции `print()`. "
   ]
  },
  {
   "cell_type": "code",
   "execution_count": 1,
   "metadata": {},
   "outputs": [],
   "source": [
    "# Начни писать свой код ниже:\n"
   ]
  },
  {
   "attachments": {},
   "cell_type": "markdown",
   "metadata": {},
   "source": [
    "Давайте немного попрактикуемся в объявлении переменных."
   ]
  },
  {
   "attachments": {},
   "cell_type": "markdown",
   "metadata": {},
   "source": [
    "### Задание 1.2.2: \n",
    "1. Сохраните значение 10 в переменную под названием \"some_value\"\n",
    "2. Сохраните результат вычислений (38+6-2)*23 в переменную \"some_result\"\n",
    "3. Используя функцию `print()` распечатайте:\n",
    "    - значение в переменной \"some_value\"\n",
    "    - результат сложения цифры 8 к значению переменной \"some_result\"\n",
    "    - результат сложения значений переменных \"some_result\" и \"some_value\""
   ]
  },
  {
   "cell_type": "code",
   "execution_count": 2,
   "metadata": {},
   "outputs": [],
   "source": [
    "# Начни писать свой код ниже:\n"
   ]
  },
  {
   "attachments": {},
   "cell_type": "markdown",
   "metadata": {},
   "source": [
    "## 2. Название переменной\n",
    "В предыдущем задании мы объявили парочку переменных, также мы узнали, что можем объявлять переменные с произвольным названием. Однако, названия переменных должны соответствовать синтаксическим правилам. Например, если мы попробуем назвать переменную как **\"a result\"**, то появится синтаксическая ошибка, потому что нам не разрешно использовать пробел между названиями переменных. "
   ]
  },
  {
   "cell_type": "code",
   "execution_count": 2,
   "metadata": {},
   "outputs": [
    {
     "ename": "SyntaxError",
     "evalue": "invalid syntax (2584121372.py, line 1)",
     "output_type": "error",
     "traceback": [
      "\u001b[0;36m  Cell \u001b[0;32mIn [2], line 1\u001b[0;36m\u001b[0m\n\u001b[0;31m    a result = 20\u001b[0m\n\u001b[0m      ^\u001b[0m\n\u001b[0;31mSyntaxError\u001b[0m\u001b[0;31m:\u001b[0m invalid syntax\n"
     ]
    }
   ],
   "source": [
    "a result = 20"
   ]
  },
  {
   "attachments": {},
   "cell_type": "markdown",
   "metadata": {},
   "source": [
    "При объявлении переменных мы должны следовать двум основным правилам: \n",
    "1. Мы должны использовать только латинские буквы, цифры и нижнее подчерквивание (мы не можем использовать апострофы, пробелы, дефисы и т.д.)\n",
    "2. Название переменной не должно начинаться с цифры.\n",
    "\n",
    "Например, появится ошибка, если мы будем называть переменную как:"
   ]
  },
  {
   "cell_type": "code",
   "execution_count": 3,
   "metadata": {},
   "outputs": [
    {
     "ename": "SyntaxError",
     "evalue": "invalid decimal literal (1012266981.py, line 1)",
     "output_type": "error",
     "traceback": [
      "\u001b[0;36m  Cell \u001b[0;32mIn [3], line 1\u001b[0;36m\u001b[0m\n\u001b[0;31m    1_result = 2\u001b[0m\n\u001b[0m     ^\u001b[0m\n\u001b[0;31mSyntaxError\u001b[0m\u001b[0;31m:\u001b[0m invalid decimal literal\n"
     ]
    }
   ],
   "source": [
    "1_result = 2\n",
    "new result = 3\n",
    "sister's_vacation_day = 23\n",
    "old-result = 20\n",
    "price_in_$ = 20"
   ]
  },
  {
   "attachments": {},
   "cell_type": "markdown",
   "metadata": {},
   "source": [
    "Все названия переменных в Python **чувствительны к регистру**, помните, что переменные **\"result\"** и **\"Result\"** совсем разные переменные."
   ]
  },
  {
   "cell_type": "code",
   "execution_count": 4,
   "metadata": {},
   "outputs": [
    {
     "name": "stdout",
     "output_type": "stream",
     "text": [
      "20\n",
      "30\n"
     ]
    }
   ],
   "source": [
    "result = 20\n",
    "Result = 30\n",
    "print(result)\n",
    "print(Result)"
   ]
  },
  {
   "attachments": {},
   "cell_type": "markdown",
   "metadata": {},
   "source": [
    "Также стоит запомнить, что нельзя в качестве имен переменных использовать ключевые слова Python, ниже можете увидеть зарезервированный Pythonом список имен:"
   ]
  },
  {
   "attachments": {},
   "cell_type": "markdown",
   "metadata": {},
   "source": [
    "![рисунок](https://programmera.ru/wp-content/uploads/2018/05/keywords1.png)"
   ]
  },
  {
   "attachments": {},
   "cell_type": "markdown",
   "metadata": {},
   "source": [
    "## 3. Обновление значений в переменных\n",
    "Значение сохраненное в переменную может быть изменено или обновлено. Например, в коде ниже мы сначала сохраним в переменную значение 2 и затем обновим ее значением 20.  "
   ]
  },
  {
   "cell_type": "code",
   "execution_count": 5,
   "metadata": {},
   "outputs": [
    {
     "name": "stdout",
     "output_type": "stream",
     "text": [
      "2\n",
      "3\n",
      "20\n",
      "30\n"
     ]
    }
   ],
   "source": [
    "result = 2\n",
    "print(result)\n",
    "print(result + 1)\n",
    "\n",
    "result = 20\n",
    "print(result)\n",
    "\n",
    "result = result + 10\n",
    "print(result)"
   ]
  },
  {
   "attachments": {},
   "cell_type": "markdown",
   "metadata": {},
   "source": [
    "Обратите внимание на код выше:\n",
    "- Сначала мы проинициизировали в переменную \"result\" значение 2\n",
    "- \"result\" + 1 равняется 3, потому что в значении \"result\" хранится значение 2\n",
    "- Когда мы к \"result\" прибавили 10, то мы получили уже значение 30 на выходе. Это тоже самое что result = 20 + 10, но так как ранее мы присвоили переменной result цифру 20, то выражение result = result + 10 возвращает нам 30.\n",
    "\n",
    "Давайте сейчас немного попрактикуемся с переменными, а именно с переменной **income = 2000**."
   ]
  },
  {
   "attachments": {},
   "cell_type": "markdown",
   "metadata": {},
   "source": [
    "### Задание 1.2.4:\n",
    "1. Обновите значение в переменной **income** прибавив к ней 5000. \n",
    "2. Распечатайте содержимое переменной **income**"
   ]
  },
  {
   "cell_type": "code",
   "execution_count": 3,
   "metadata": {},
   "outputs": [],
   "source": [
    "income = 2000 \n",
    "\n",
    "# Начни писать свой код ниже:\n"
   ]
  },
  {
   "attachments": {},
   "cell_type": "markdown",
   "metadata": {},
   "source": [
    "**Обратите внимание как мы обновляем значение в переменной, например, используя конструкцию x = x + 1. Это сильно отличается от того что принято в математике. Выражение x = x + 1  для математики было бы ложным, так как x никогда бы не равнялось x + 1.** Оператор \"=\" в Python и в других языках программирования не имеет ничего общего с тем что принято в математике. \n",
    "\n",
    "**В Python оператор \"=\" означает знак присваивания**: значение справа присваивается к переменной слева, как только что мы делали с переменной **income** в задании выше. Это не означает знак равенства. Мы называем \"=\" оператором присваивания, и мы читаем код **x = 2** как \"число два присваивается переменной x\" или \"x присваивается значение 2\", но никак не \"x равно двойке\". \n",
    "\n",
    "Кстати, в Python есть возможность использовать сокращения в операциях сложения, вычитания, деления и умножения: `+=`, `-=`, `/=` и `*=`"
   ]
  },
  {
   "cell_type": "code",
   "execution_count": 2,
   "metadata": {},
   "outputs": [
    {
     "name": "stdout",
     "output_type": "stream",
     "text": [
      "10\n",
      "11\n"
     ]
    }
   ],
   "source": [
    "x = 10\n",
    "print(x)\n",
    "\n",
    "x += 1    # это эквивалент записи x = x + 1\n",
    "print(x)"
   ]
  },
  {
   "attachments": {},
   "cell_type": "markdown",
   "metadata": {},
   "source": [
    "## 4. Типы значений \n",
    "Ранее мы с вами поработали только с целочисленым (int) типом данных, конечно в Python мы можем работать и с числами с плавающей точкой (float) тоже. Для того чтобы понять с каким типом чисел или даже значением мы работаем в Python есть специальная функция `type()`. Например:  "
   ]
  },
  {
   "cell_type": "code",
   "execution_count": 1,
   "metadata": {},
   "outputs": [
    {
     "name": "stdout",
     "output_type": "stream",
     "text": [
      "<class 'int'>\n",
      "<class 'float'>\n",
      "<class 'float'>\n",
      "<class 'float'>\n"
     ]
    }
   ],
   "source": [
    "print(type(10))\n",
    "print(type(10.))\n",
    "print(type(10.0))\n",
    "print(type(2.5))"
   ]
  },
  {
   "attachments": {},
   "cell_type": "markdown",
   "metadata": {},
   "source": [
    "Мы видим, что Python различает целочисленные и дробные значения цифр. К примеру цифра `10` имеет целочисленный тип данных **int** и дробные `10.`, `10.0` и `2.5` имеют тип **float**.\n",
    "\n",
    "Даже если у двух цифр отличаются типы данных, например первая **int**, а вторая **float** мы все еще можем выполнить арифметические операции над ними. Например: "
   ]
  },
  {
   "cell_type": "code",
   "execution_count": 2,
   "metadata": {},
   "outputs": [
    {
     "name": "stdout",
     "output_type": "stream",
     "text": [
      "20.0\n",
      "12.5\n"
     ]
    }
   ],
   "source": [
    "print(10 + 10.0)\n",
    "print(2.5 * 5)"
   ]
  },
  {
   "attachments": {},
   "cell_type": "markdown",
   "metadata": {},
   "source": [
    "## Задание 1.2.5: \n",
    "1. Присвойте значение 10 переменной **value_1**\n",
    "2. Присвойте значение 20.5 переменной **value_2**\n",
    "3. Обновите значение **value_1**, прибавив **2.5** к текущему значению. Попробуйте использовать сокращенный стиль синтаксиса как +=. \n",
    "4. Обновите значение переменной **value_2**, умножив текущее значение на 5. Попробуйте использовать сокращенный стиль синтаксиса как *=. \n",
    "5. Распечатайте значения переменных **value_1** и **value_2** используя функцию `print()`"
   ]
  },
  {
   "cell_type": "code",
   "execution_count": 4,
   "metadata": {},
   "outputs": [],
   "source": [
    "# Начни писать свой код ниже:\n"
   ]
  },
  {
   "attachments": {},
   "cell_type": "markdown",
   "metadata": {},
   "source": [
    "## 5. Конвертация типов"
   ]
  },
  {
   "attachments": {},
   "cell_type": "markdown",
   "metadata": {},
   "source": [
    "Возможно ли сконвертировать один тип данных в другой тип? Конечно! Например, мы можем значение типа **float()** сконвертировать в тип **int** и наоборот. "
   ]
  },
  {
   "cell_type": "code",
   "execution_count": 1,
   "metadata": {},
   "outputs": [
    {
     "data": {
      "text/plain": [
       "10.0"
      ]
     },
     "execution_count": 1,
     "metadata": {},
     "output_type": "execute_result"
    }
   ],
   "source": [
    "float(10)"
   ]
  },
  {
   "cell_type": "code",
   "execution_count": 2,
   "metadata": {},
   "outputs": [
    {
     "data": {
      "text/plain": [
       "2"
      ]
     },
     "execution_count": 2,
     "metadata": {},
     "output_type": "execute_result"
    }
   ],
   "source": [
    "int(2.3)"
   ]
  },
  {
   "attachments": {},
   "cell_type": "markdown",
   "metadata": {},
   "source": [
    "Будьте осторожны при конвертации в целочисленный тип **int** и заметьте, что значение `2.3` при конвертации округлилось вниз до `2`. Функция `int()` будет всегда округлять дробные числа типа **float** вниз, даже если число после запятой больше пяти. \n",
    "\n",
    "Однако, мы также можем использовать функцию `round()`, которая следует стандартным правилам округления. "
   ]
  },
  {
   "cell_type": "code",
   "execution_count": 3,
   "metadata": {},
   "outputs": [
    {
     "data": {
      "text/plain": [
       "2"
      ]
     },
     "execution_count": 3,
     "metadata": {},
     "output_type": "execute_result"
    }
   ],
   "source": [
    "round(2.3)"
   ]
  },
  {
   "cell_type": "code",
   "execution_count": 4,
   "metadata": {},
   "outputs": [
    {
     "data": {
      "text/plain": [
       "2"
      ]
     },
     "execution_count": 4,
     "metadata": {},
     "output_type": "execute_result"
    }
   ],
   "source": [
    "round(2.5)"
   ]
  },
  {
   "cell_type": "code",
   "execution_count": 5,
   "metadata": {},
   "outputs": [
    {
     "data": {
      "text/plain": [
       "3"
      ]
     },
     "execution_count": 5,
     "metadata": {},
     "output_type": "execute_result"
    }
   ],
   "source": [
    "round(2.99)"
   ]
  },
  {
   "attachments": {},
   "cell_type": "markdown",
   "metadata": {},
   "source": [
    "А вы знали, что можно комбинировать сразу несколько функций и это даже поощряется делать? Например, мы можем использовать `round()`внутри функции `print()`. Заметьте разницу с выводом результата когда мы используем просто функцию `round()`и когда используем комбинацию `print(round())`"
   ]
  },
  {
   "cell_type": "code",
   "execution_count": 6,
   "metadata": {},
   "outputs": [
    {
     "name": "stdout",
     "output_type": "stream",
     "text": [
      "2\n",
      "2\n",
      "3\n"
     ]
    }
   ],
   "source": [
    "print(round(2.3))\n",
    "print(round(2.5))\n",
    "print(round(2.99))"
   ]
  },
  {
   "cell_type": "code",
   "execution_count": 7,
   "metadata": {},
   "outputs": [
    {
     "data": {
      "text/plain": [
       "3"
      ]
     },
     "execution_count": 7,
     "metadata": {},
     "output_type": "execute_result"
    }
   ],
   "source": [
    "round(2.3)\n",
    "round(2.5)\n",
    "round(2.99)"
   ]
  },
  {
   "attachments": {},
   "cell_type": "markdown",
   "metadata": {},
   "source": [
    "Еще одна деталь на которую стоит обратить внимание, что функция `round()` не изменяет значение, хранящееся в переменной.  "
   ]
  },
  {
   "cell_type": "code",
   "execution_count": 11,
   "metadata": {},
   "outputs": [
    {
     "name": "stdout",
     "output_type": "stream",
     "text": [
      "2\n",
      "2.5\n"
     ]
    }
   ],
   "source": [
    "variable_1 = 2.5\n",
    "print(round(variable_1))\n",
    "print(variable_1)"
   ]
  },
  {
   "attachments": {},
   "cell_type": "markdown",
   "metadata": {},
   "source": [
    "Однако, если мы присвоим округленное значение в переменную, то оно сохранится в переменную. "
   ]
  },
  {
   "cell_type": "code",
   "execution_count": 12,
   "metadata": {},
   "outputs": [
    {
     "name": "stdout",
     "output_type": "stream",
     "text": [
      "2\n"
     ]
    }
   ],
   "source": [
    "variable_1 = round(2.5)\n",
    "print(variable_1)"
   ]
  },
  {
   "attachments": {},
   "cell_type": "markdown",
   "metadata": {},
   "source": [
    "## Задание 1.2.6: \n",
    "1. Присвойте значение `11.2` переменной с названием **value_1**\n",
    "2. Присвойте значение `2.5` переменной с названием **value_2** \n",
    "3. Округлите значение **value_1** используя функцию `round()`и попробуйте присвоить округленное значение обратно переменной **value_1**\n",
    "4. Сконвертируйте значение переменной **value_2** из типа **float** в тип **int**, используя функцию **int()** и присвойте полученнное значение обратно переменной **value_2**. \n",
    "5. Распечатайте результат того, что хранится в переменной **value_1** и **value_2** используя функцию `print()`. "
   ]
  },
  {
   "cell_type": "code",
   "execution_count": 6,
   "metadata": {},
   "outputs": [],
   "source": [
    "# Начни писать свой код ниже:\n",
    "\n"
   ]
  },
  {
   "attachments": {},
   "cell_type": "markdown",
   "metadata": {},
   "source": [
    "## 6. Строки\n",
    "До сих пор мы работали только со значениями типа **int** и **float**. Но в языках программирования есть множество других типов данных. Посмотрите на таблицу: \n",
    "\n",
    "| Track_name |  Price |  Currency |  Rating_count_total | User_rating|\n",
    "|------------|:------:|----------:|---------------------:|-----------:|\n",
    "| Google | 0.0 | USD | 2974676 | 3.5|\n",
    "| Instagram |    0.0  |   USD |2161558 |4.5|\n",
    "| Clash of Clans | 0.0|    USD | 2130805 |4.5|\n",
    "| Temple Run |    0.0  |   USD |1724546 |4.5|\n",
    "| Pandora - Music & Radio | 0.0|    USD | 1126879 |4.5|\n",
    "\n",
    "Источник: [Mobile App Store Data Set (Ramanathan Perumal)](https://www.kaggle.com/ramamet4/app-store-apple-data-set-10k-apps)</p>"
   ]
  },
  {
   "attachments": {},
   "cell_type": "markdown",
   "metadata": {},
   "source": [
    "Как мы видим в столбцах **track_name** и **currency** содержится текст не числа. В Python мы можем создавать строковые переменные используя кавычки `\" \"`. "
   ]
  },
  {
   "cell_type": "code",
   "execution_count": 13,
   "metadata": {},
   "outputs": [
    {
     "name": "stdout",
     "output_type": "stream",
     "text": [
      "Instagram\n",
      "USD\n"
     ]
    }
   ],
   "source": [
    "app_name = \"Instagram\"\n",
    "currency = \"USD\"\n",
    "\n",
    "print(app_name)\n",
    "print(currency)"
   ]
  },
  {
   "attachments": {},
   "cell_type": "markdown",
   "metadata": {},
   "source": [
    "В Python разрешено использовать как одинарные кавычки `' '`, так и двойные `\" \"`. Чтобы создать слово **Instagram** мы можем обернуть его в \"Instagram\" или 'Instagram'. Полученное значение называют строками и в Python такой тип данных обозначают как `str`."
   ]
  },
  {
   "cell_type": "code",
   "execution_count": 14,
   "metadata": {},
   "outputs": [
    {
     "data": {
      "text/plain": [
       "str"
      ]
     },
     "execution_count": 14,
     "metadata": {},
     "output_type": "execute_result"
    }
   ],
   "source": [
    "type('Instagram')"
   ]
  },
  {
   "attachments": {},
   "cell_type": "markdown",
   "metadata": {},
   "source": [
    "Однако, значение строки не ограничено только буквами, мы также можем использовать цифры, пробелы и другие символы. Смотри на пример ниже:"
   ]
  },
  {
   "cell_type": "code",
   "execution_count": 1,
   "metadata": {},
   "outputs": [
    {
     "name": "stdout",
     "output_type": "stream",
     "text": [
      "Bank\n",
      "number is 123456789\n"
     ]
    }
   ],
   "source": [
    "bank = 'Bank'\n",
    "number = 'number is 123456789'\n",
    "\n",
    "print(bank)\n",
    "print(number)"
   ]
  },
  {
   "attachments": {},
   "cell_type": "markdown",
   "metadata": {},
   "source": [
    "### Задание 1.2.7:\n",
    "\n",
    "1. Присвойте значение \"Instagram\" перменной с названием **app_name**. \n",
    "2. Присвойте значение \"4.5\" переменной с названием **average_rating**.\n",
    "3. Присвойте значение \"2161158\" переменной с названием **total_ratings**.\n",
    "4. Присвойте значение \"data\" переменной с названием **value**. \n",
    "5. Распечатайте значение переменной **app_name** используя функцию `print()`"
   ]
  },
  {
   "cell_type": "code",
   "execution_count": 7,
   "metadata": {},
   "outputs": [],
   "source": [
    "# Начни писать свой код ниже:\n"
   ]
  }
 ],
 "metadata": {
  "kernelspec": {
   "display_name": "Python 3.11.0 64-bit",
   "language": "python",
   "name": "python3"
  },
  "language_info": {
   "codemirror_mode": {
    "name": "ipython",
    "version": 3
   },
   "file_extension": ".py",
   "mimetype": "text/x-python",
   "name": "python",
   "nbconvert_exporter": "python",
   "pygments_lexer": "ipython3",
   "version": "3.11.4"
  },
  "orig_nbformat": 4,
  "vscode": {
   "interpreter": {
    "hash": "aee8b7b246df8f9039afb4144a1f6fd8d2ca17a180786b69acc140d282b71a49"
   }
  }
 },
 "nbformat": 4,
 "nbformat_minor": 2
}
